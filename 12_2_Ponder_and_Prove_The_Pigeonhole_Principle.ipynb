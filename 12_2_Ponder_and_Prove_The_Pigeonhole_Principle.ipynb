{
  "nbformat": 4,
  "nbformat_minor": 0,
  "metadata": {
    "colab": {
      "name": "12_2_Ponder_and_Prove_The_Pigeonhole_Principle.ipynb",
      "provenance": [],
      "collapsed_sections": [],
      "include_colab_link": true
    },
    "kernelspec": {
      "name": "python3",
      "display_name": "Python 3"
    },
    "language_info": {
      "name": "python"
    }
  },
  "cells": [
    {
      "cell_type": "markdown",
      "metadata": {
        "id": "view-in-github",
        "colab_type": "text"
      },
      "source": [
        "<a href=\"https://colab.research.google.com/github/DavisKerr/cse380-notebooks/blob/master/12_2_Ponder_and_Prove_The_Pigeonhole_Principle.ipynb\" target=\"_parent\"><img src=\"https://colab.research.google.com/assets/colab-badge.svg\" alt=\"Open In Colab\"/></a>"
      ]
    },
    {
      "cell_type": "markdown",
      "metadata": {
        "id": "ivY_Ypmxx7Vm"
      },
      "source": [
        "# Ponder and Prove The Pigeonhole Principle\n",
        "## Due: Saturday, 27 March 2021"
      ]
    },
    {
      "cell_type": "markdown",
      "metadata": {
        "id": "zF2K38sxyH5Z"
      },
      "source": [
        "## Exploration"
      ]
    },
    {
      "cell_type": "markdown",
      "metadata": {
        "id": "uBgYLYK5yJzk"
      },
      "source": [
        "You are invited to explore some of the ramifications of the *Pigeonhole Principle*, a fascinating counting principle belonging to combinatorics.\n"
      ]
    },
    {
      "cell_type": "markdown",
      "metadata": {
        "id": "cIS4n3DpyXA1"
      },
      "source": [
        "### Requirements"
      ]
    },
    {
      "cell_type": "markdown",
      "metadata": {
        "id": "FqgealMfyZc8"
      },
      "source": [
        "Read Brother Kent Bessey's essay entitled *Pigeons and Pigeonholes*, think about and explore the topics therein, and write your response thereto.\n",
        "\n",
        "Include in your response a description of a discussion about this essay that you will have had with someone *not in the class* (nor in any of the STEM majors). This person can be a spouse, friend, roommate, or relative. The point is to find someone who is not mathematically strong, and has probably never heard of the Pigeonhole Principle, or combinatorics (or discrete mathematics) in general."
      ]
    },
    {
      "cell_type": "markdown",
      "metadata": {
        "id": "aPEEcqUGzFds"
      },
      "source": [
        "#### Copyright Note"
      ]
    },
    {
      "cell_type": "markdown",
      "metadata": {
        "id": "9EPgpQ0hzHr5"
      },
      "source": [
        "Brother Kent A. Bessey, Professor of Mathematics at BYU-Idaho, holds the copyright to this essay, which means:\n",
        "\n",
        "> All rights reserved (by him). Reproduced by permission (from him).\n",
        "Read-only. Please do not copy, print, transmit or save a copy of\n",
        "this work.\n",
        "\n",
        "He has authorized your temporary use of his work, which [you can find here](https://firstthreeodds.org/17657741833134731255/pigeons-and-pigeonholes.pdf)."
      ]
    },
    {
      "cell_type": "markdown",
      "metadata": {
        "id": "vRKIt3NOzkwH"
      },
      "source": [
        "### Concretize the Abstract by Writing Some Code"
      ]
    },
    {
      "cell_type": "markdown",
      "metadata": {
        "id": "ngXSoVu3znIJ"
      },
      "source": [
        "Specifically, write some Python code to help you figure out the problem on page 40, which Brother Bessey prefaces by saying:\n",
        "\n",
        "> I leave it to the reader to verify the calculations for a final (albeit challenging) exercise ...!\n",
        "\n",
        "Include the results of your grappling with this problem, and note the two stubbed functions below that you must flesh out in order to verify the calculations and explain the hows and whys."
      ]
    },
    {
      "cell_type": "markdown",
      "metadata": {
        "id": "EBQNhzqGzzIF"
      },
      "source": [
        "#### Stub Code"
      ]
    },
    {
      "cell_type": "code",
      "metadata": {
        "id": "fCOUkHjqz10k"
      },
      "source": [
        "# We have 26 * 27 * 26 total possible initials in this scenario. That totals to 18,252 total initials.\n",
        "# We also have 6 true or false statements represented as bitstrings which is 2**6 or 64 possible combinations.\n",
        "# If we multiply (and) those two together we get 18,252 * 64 = 1,168,128. \n",
        "# Since there are about 1,787,065 people in Idaho, we can divide 1,787,065 / 1,168,128. We then take the cieiling of this number and get 2.\n",
        "# Thus, there are at least 2 people who have the same initials and have the same answers for the true or false questions. \n",
        "\n",
        "\n",
        "\n",
        "# LDS: 0 | 1\n",
        "# Like Cats: 0 | 1\n",
        "# Bite Fingernails: 0 | 1\n",
        "# Wear Contacts: 0 | 1\n",
        "# Born before 1967: 0 | 1\n",
        "# Live 3 1/2 miles or closer to Mcdonalds: 0 | 1\n",
        "# 64 possibilities. (2**6)\n",
        "# There are at least 2 people who meet our problem.\n",
        "from math import ceil\n",
        "\n",
        "# n = number of people to check against. In this case it is the population of idaho.\n",
        "def calculate_number_of_possible_initials_including_middle_initial_if_any(n):\n",
        "  return (n ** 2) * (n + 1) \n",
        "\n",
        "def pigeonhole_from_pigeon(pigeon):\n",
        "  tf_categories = ['LDS', 'Likes Cats', 'Born Before', 'Wears Contacts', 'Bites Fingernails', 'Lives Close']\n",
        "  name = pigeon['Name'].split(' ')\n",
        "  final = name[0][0] + (name[1][0] if len(name) > 2 else ' ') + name[-1][0] + ':' + ''.join([str(int(pigeon[x])) for x in tf_categories])\n",
        "  assert(len(final) == 10)\n",
        "  assert(calculate_number_of_possible_initials_including_middle_initial_if_any(26) * 64 > 1000000)\n",
        "  return final"
      ],
      "execution_count": 55,
      "outputs": []
    },
    {
      "cell_type": "code",
      "metadata": {
        "id": "17U1IZh5zykO",
        "colab": {
          "base_uri": "https://localhost:8080/"
        },
        "outputId": "33564620-09fc-463f-ff48-221b380f19ee"
      },
      "source": [
        "calculate_number_of_possible_initials_including_middle_initial_if_any(26)"
      ],
      "execution_count": 56,
      "outputs": [
        {
          "output_type": "execute_result",
          "data": {
            "text/plain": [
              "18252"
            ]
          },
          "metadata": {
            "tags": []
          },
          "execution_count": 56
        }
      ]
    },
    {
      "cell_type": "code",
      "metadata": {
        "colab": {
          "base_uri": "https://localhost:8080/",
          "height": 35
        },
        "id": "mZ6QSvtizqEd",
        "outputId": "33c55c5c-680c-4892-f5e4-ec62897d2abd"
      },
      "source": [
        "pigeon = {'Name': 'John Doe', 'LDS': True, 'Likes Cats': True, 'Born Before': True, 'Wears Contacts': False, 'Bites Fingernails': False, 'Lives Close': True}\n",
        "\n",
        "pigeonhole_from_pigeon(pigeon)"
      ],
      "execution_count": 58,
      "outputs": [
        {
          "output_type": "execute_result",
          "data": {
            "application/vnd.google.colaboratory.intrinsic+json": {
              "type": "string"
            },
            "text/plain": [
              "'J D:111001'"
            ]
          },
          "metadata": {
            "tags": []
          },
          "execution_count": 58
        }
      ]
    },
    {
      "cell_type": "markdown",
      "metadata": {
        "id": "JvMpIHMF0JuM"
      },
      "source": [
        "### Find Applications of the Pigeonhole Principle"
      ]
    },
    {
      "cell_type": "markdown",
      "metadata": {
        "id": "9aicPoZG0Lbj"
      },
      "source": [
        "One major application of the pidgeonhole principle is identifying some properties of graphs. One such property is that any graph with more than one vertex has at least two vertices of the same degree. In any graph of n vertices we can have only n-1 possible degrees for each node. Since n is one more than the possibe degrees, there must be 2 verticies of the same degree."
      ]
    },
    {
      "cell_type": "markdown",
      "metadata": {
        "id": "81dbKwHenxnT"
      },
      "source": [
        "## My Report on What I Did and What I Learned"
      ]
    },
    {
      "cell_type": "markdown",
      "metadata": {
        "id": "C8BeiIern33B"
      },
      "source": [
        "### Fun\n"
      ]
    },
    {
      "cell_type": "markdown",
      "metadata": {
        "id": "ElukRLoezyxd"
      },
      "source": [
        "I am always excited by philosophy in any of its forms. It is fun to learn and explore how and what I believe. Even more important is how I rationalize what I believe. The pigeonhole principle has far-reaching implications for belief and rational thought. The idea of determining truth through combinatorics and division (what I see to be the basic operations underlying the principle) is exciting to me! Being able to prove the existence of something without knowing what the thing has massive implications in many fields. "
      ]
    },
    {
      "cell_type": "markdown",
      "metadata": {
        "id": "OzOkZ3son-u9"
      },
      "source": [
        "### New"
      ]
    },
    {
      "cell_type": "markdown",
      "metadata": {
        "id": "3-nYIdEUz4x5"
      },
      "source": [
        "I learned a lot of new things through this seemingly simple principle. The most important of those is to never dismiss an idea because it is simple or common. It is small and simple things that form the foundations for the great things of the universe. I also learned that mathematics has an important role in philosophy, which I had heard before but frankly did not believe. After thinking about it, most of philosophy, if not all of it, is built on the same principles as mathematics.  "
      ]
    },
    {
      "cell_type": "markdown",
      "metadata": {
        "id": "mJHvoj6GokaZ"
      },
      "source": [
        "### Meaningful\n"
      ]
    },
    {
      "cell_type": "markdown",
      "metadata": {
        "id": "XOxh3XFTz-6N"
      },
      "source": [
        "The pigeonhole principle is one that I know I will be able to build upon and apply in my mathematical thinking. I know I will work a lot with graph theory in my career, so having this principle in my tool belt will be important. On a philosophical note, it is important to build upon the idea of existence. The idea of the knowledge of the existence of an answer to a problem has far-reaching implications. "
      ]
    },
    {
      "cell_type": "markdown",
      "metadata": {
        "id": "_RBE03fhpNUG"
      },
      "source": [
        "### Other"
      ]
    },
    {
      "cell_type": "markdown",
      "metadata": {
        "id": "JnXxx2r43QQw"
      },
      "source": [
        "#### My reaction and impression Report"
      ]
    },
    {
      "cell_type": "markdown",
      "metadata": {
        "id": "6Jtoojcg3U7b"
      },
      "source": [
        "The pigeonhole principle is remarkably simple while at the same time being vast in its application. I found that while all of the ideas conveyed in Brother Bessey's paper were easy to understand, the implications were harder to grasp. I think the most important thing I took out of the paper is that the patterns can show us that there are answers to complicated questions even if we cannot yet find those answers.\n",
        "\n",
        "I first thought that the pigeonhole principle was about probability, but upon reading its deeper explanation I learned that it was only not probability, but as fact. When we say that among 13 people at least 2 have the same birth month we are stating an undeniable fact. It is truth, pure and simple. The idea that we can use this kind of slot comparison to determine a statement that is fully truthful, if not precise, is fascinating to me. The implications of knowing truth without being exact have a lot of deeper impact on how we can think and reason.\n",
        "\n",
        "The paper introduced the idea that while the pigeonhole principle is useful because it proves that there is a solution to a given problem it is incomplete without a study of the uniqueness of a solution. The two ideas combined, the uniqueness and the existence of a solution form two parts of a whole in mathematical philosophy. To know both is to know that when an answer is reached in a problem, it is THE answer.\n",
        "\n",
        "Brother Bessey also briefly diverges into the religious implications of the pigeonhole principle. The faithless would ask for the answer to questions without considering the existence of an answer. The main task for the faithful is to show that there is an answer that is unique as well. While the pigeonhole principle may not directly apply to this problem, there can exist a spiritual principle that allows for one to know that there is a higher power.  "
      ]
    },
    {
      "cell_type": "markdown",
      "metadata": {
        "id": "A1YsZSBf7rni"
      },
      "source": [
        "#### My discussion with a non-STEM major"
      ]
    },
    {
      "cell_type": "markdown",
      "metadata": {
        "id": "b3AWXuUD7wdV"
      },
      "source": [
        "I talked to my younger brother, Stephen, who is working on his generals here at BYUI. We talked about the pigeonhole principle and what it was. He immediately understood the basic idea and asked why it was so important. I walked him through some of the examples given in Brother Bessey's paper. He was fascinated particularly with the acquaintance problem. We then moved into a discussion of the philosophical implications of the principle. \n",
        "\n",
        "He was interested in the idea that existence is a powerful thing to know. To know that something exists, even without knowing the exact answer is a concept he had not thought about before. He talked about how it's so simple an idea, but one he would have subconsciously brushed aside without giving it much thought. We also talked about combining existence with uniqueness to determine for any given problem if there can be a real and unique solution. \n",
        "\n",
        "Upon introducing him to the challenging problem left unanswered in Brother Bessey's paper he told me that he does not understand the principle as well as he thought. Upon explaining briefly how combinatorics works, he understood how the initials played into the problem. He still found the other characteristics to complicate the problem beyond his understanding. After explaining that if you turn a 'true' answer into a 1 and a 'false' answer into a 0, you can then generate all possible combinations of 6 zeros or ones. He was able to see quickly that that made the answer very simple. He was very impressed with the ability to find that there is an answer to our problem without having to do any outside research besides the population of Idaho. He did say that he may not be able to solve another problem like this by himself, but he does understand the principle. "
      ]
    },
    {
      "cell_type": "markdown",
      "metadata": {
        "id": "67I7umPe8YdA"
      },
      "source": [
        "#### Grappling with the challenging problem above"
      ]
    },
    {
      "cell_type": "markdown",
      "metadata": {
        "id": "Nwhs0hKt8csk"
      },
      "source": [
        "This problem initially did not make much sense. The structure of the stub code and the instructions in the report section were unclear to me. My group and I were able to piece together that we needed the number of \"holes\" and pigeons. We decided the easier number was that of pigeons because that was just a google search for the population of Idaho. We then created bitstrings to represent the total number of answers to the true or false questions and found that there were 64 unique combinations of answers. We found that there are 18,252 total combinations of initials, including people who only have two initials. Multiplying those two numbers together gives the total number of 'holes.' Dividing the pigeons by the holes and taking the ceiling gives us the least number of people that must exist with the same initials and attributes.  \n",
        "\n",
        "The second function demonstrates that there are a finite number of strings that can be generated by all valid inputs for the function. This demonstrates that for all possible inputs there is not a unique string that will be returned. "
      ]
    },
    {
      "cell_type": "markdown",
      "metadata": {
        "id": "FDAHnSfk8dLn"
      },
      "source": [
        "#### Collaberators"
      ]
    },
    {
      "cell_type": "markdown",
      "metadata": {
        "id": "spi0lL2i8fBv"
      },
      "source": [
        "As always, I worked extensively with Brayden Whitlock, Matthew Reed, and Paul Samedani. We read the paper together and discussed its implications. We also worked together on the coding exercise. "
      ]
    },
    {
      "cell_type": "markdown",
      "metadata": {
        "id": "qq6u2m538fj_"
      },
      "source": [
        "#### Connections"
      ]
    },
    {
      "cell_type": "markdown",
      "metadata": {
        "id": "EQZe0tbX8iKi"
      },
      "source": [
        "The connection between the pigeonhole problem and Ramsey Theory seems clear in my mind. The Ramsey theory also deals with existence, though it also tries to provide answers in some cases as well."
      ]
    },
    {
      "cell_type": "markdown",
      "metadata": {
        "id": "Nrk-8EmgW4NP"
      },
      "source": [
        "## What is True?\n",
        "Click on each warranted checkbox to toggle it to True (or back to False). \n",
        "\n",
        "NOTE: *This only works in Colab. If you run it in some other Jupyter notebook client/server environment you may have to change False to True (or vice versa) manually.*\n",
        "\n",
        "This self-assessment is subject to revision by a grader."
      ]
    },
    {
      "cell_type": "code",
      "metadata": {
        "id": "qGAjzgVRXR4M",
        "cellView": "form"
      },
      "source": [
        "#@markdown ## What is True about what I did?\n",
        "#@markdown ### I had fun.\n",
        "cb00 = True #@param {type:'boolean'}\n",
        "#@markdown ### I learned something new.\n",
        "cb01 = True #@param {type:'boolean'}\n",
        "#@markdown ### I achieved something meaningful, or something I can build upon at a later time.\n",
        "cb02 = True #@param {type:'boolean'}\n",
        "#@markdown ## What is True about my report?\n",
        "#@markdown ### I wrote a sufficient number of well-written sentences.\n",
        "cb03 = True #@param {type:'boolean'}\n",
        "#@markdown ### My report is free of mechanical infelicities.\n",
        "cb04 = True #@param {type:'boolean'}\n",
        "#@markdown ### I used Grammarly (or something better described in my report) to check for MIs.\n",
        "cb05 = True #@param {type:'boolean'}\n",
        "#@markdown ### I reported on any connections I found between these problems and something I already know. \n",
        "cb06 = True #@param {type:'boolean'}\n",
        "#@markdown ### I reported who were and what contribution each of my collaborators made.\n",
        "cb07 = True #@param {type:'boolean'}\n",
        "#@markdown ### I reported what I thought about the essay in general.\n",
        "cb08 = True #@param {type:'boolean'}\n",
        "#@markdown ### I reported what I thought about the certainty-not-chance feature of the pigeonhole principle.\n",
        "cb09 = True #@param {type:'boolean'}\n",
        "#@markdown ### I reported what I thought about the philosophical aspect of the pigeonhole principle per page 41.\n",
        "cb10 = True #@param {type:'boolean'}\n",
        "#@markdown ### I reported on how my discussion with a non-STEM non-classmate went.\n",
        "cb11 = True #@param {type:'boolean'}\n",
        "#@markdown ### I reported on how I grappled with the problem at the bottom of page 40.\n",
        "cb12 = True #@param {type:'boolean'}\n",
        "#@markdown ### I reported on the connection I found between the pigeonhole principle and graphs.\n",
        "cb13 = True #@param {type:'boolean'}\n",
        "#@markdown ## What is True about my code?\n",
        "#@markdown ### I implemented the first function (the one with the absurdly long name) in one or two lines of code.\n",
        "cb14 = True #@param {type:'boolean'}\n",
        "#@markdown ### I used either the sum rule and product rule together or else just the product rule in the first function.\n",
        "cb15 = True #@param {type:'boolean'}\n",
        "#@markdown ### The first function calculates and returns the correct value (see Exercise 250).\n",
        "cb16 = True #@param {type:'boolean'}\n",
        "#@markdown ### The second function inputs a dictionary like {'Name': 'John Doe', 'LDS': True, 'Likes Cats': True, 'Born Before': True, 'Wears Contacts': False, 'Bites Fingernails': False, 'Lives Close': True} and returns the string 'J D:111001'.\n",
        "cb17 = True #@param {type:'boolean'}\n",
        "#@markdown ### The second function calls the first function with the appropriate argument and uses the result.\n",
        "cb18 = True #@param {type:'boolean'}\n",
        "#@markdown ### The second function includes an assert that the length of the string being returned is 10.\n",
        "cb19 = True #@param {type:'boolean'}\n",
        "#@markdown ### The second function includes an assert that the cardinality of its codomain (set of possible return values) is over a million.\n",
        "cb20 = True #@param {type:'boolean'}"
      ],
      "execution_count": 53,
      "outputs": []
    },
    {
      "cell_type": "markdown",
      "metadata": {
        "id": "q8KESLBANSkC"
      },
      "source": [
        "## DO NOT CHANGE ANYTHING IN THE NEXT CODE CELL!!\n",
        "### Delete this cell and the following ones before submitting your work."
      ]
    },
    {
      "cell_type": "code",
      "metadata": {
        "id": "rJ_vaL0DWwoc",
        "colab": {
          "base_uri": "https://localhost:8080/"
        },
        "outputId": "b4766158-09d9-479d-dfc1-824df5454fc9"
      },
      "source": [
        "points_for_what_I_did = [3]*3\n",
        "points_for_my_report = [5]*8 + [7] + [6]*2\n",
        "points_for_my_code = [4]*3 + [5]*4\n",
        "points = points_for_what_I_did + points_for_my_report + points_for_my_code\n",
        "# cb is short for checkbox\n",
        "total = sum(map(lambda n, p: p if eval(f'cb{n:02}') else 0,\n",
        "                range(len(points)), points))             \n",
        "total"
      ],
      "execution_count": 54,
      "outputs": [
        {
          "output_type": "execute_result",
          "data": {
            "text/plain": [
              "100"
            ]
          },
          "metadata": {
            "tags": []
          },
          "execution_count": 54
        }
      ]
    },
    {
      "cell_type": "code",
      "metadata": {
        "id": "sQRGj2LQo9Pl"
      },
      "source": [
        ""
      ],
      "execution_count": null,
      "outputs": []
    }
  ]
}