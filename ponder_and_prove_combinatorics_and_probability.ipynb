{
  "nbformat": 4,
  "nbformat_minor": 0,
  "metadata": {
    "kernelspec": {
      "display_name": "Python 3",
      "language": "python",
      "name": "python3"
    },
    "language_info": {
      "codemirror_mode": {
        "name": "ipython",
        "version": 3
      },
      "file_extension": ".py",
      "mimetype": "text/x-python",
      "name": "python",
      "nbconvert_exporter": "python",
      "pygments_lexer": "ipython3",
      "version": "3.8.5-final"
    },
    "colab": {
      "name": "ponder_and_prove_combinatorics_and_probability.ipynb",
      "provenance": [],
      "collapsed_sections": [],
      "include_colab_link": true
    }
  },
  "cells": [
    {
      "cell_type": "markdown",
      "metadata": {
        "id": "view-in-github",
        "colab_type": "text"
      },
      "source": [
        "<a href=\"https://colab.research.google.com/github/DavisKerr/cse380-notebooks/blob/master/ponder_and_prove_combinatorics_and_probability.ipynb\" target=\"_parent\"><img src=\"https://colab.research.google.com/assets/colab-badge.svg\" alt=\"Open In Colab\"/></a>"
      ]
    },
    {
      "cell_type": "markdown",
      "metadata": {
        "id": "cyAt8gx6mJO0"
      },
      "source": [
        "# Ponder and Prove Combinatorics and Probability\n",
        "#### Due: Saturday, 6 February 2021, 11:59 pm."
      ]
    },
    {
      "cell_type": "markdown",
      "metadata": {
        "id": "1lu9kLfM0BLl"
      },
      "source": [
        "Studying this week's topic of combinatorics and probability was"
      ]
    },
    {
      "cell_type": "markdown",
      "metadata": {
        "id": "L9uZ9osFmJO6"
      },
      "source": [
        "## Conjecture\n",
        "\n",
        "A number-theoretic conjecture of combinatorial significance is the following:\n",
        "\n",
        "$degree2({2n \\choose n}) =$ the \"bits-on count\" (or population count, or Hamming weight) of $n$.\n",
        "\n",
        "$degree2(m)$ is defined as the number (degree, exponent) of 2's in the prime factorization of $m$.\n",
        "\n",
        "In other words, for any $m$, a positive integer, $m = 2^e \\cdot o$ where $o$ is an odd positive integer (could be 1) and $e$ is a natural number, including zero --- which would be the case when $m$ is odd. It's the $e$ that is the $degree2$ of $m$.\n",
        "\n",
        "Another way to state this conjecture is that the number of 1's in the binary expansion of ${2n \\choose n}$ for positive integer $n$ is equal to the number of 2's in the prime factorization of $n$.\n",
        "\n",
        "Your task is to write Python code to test this conjecture for as many positive integers as you can. See the self-assessment for more details.\n",
        "\n",
        "Note: a `bitsoncount` function can be a one-liner in Python: `return bin(x).count('1')`\n",
        "\n"
      ]
    },
    {
      "cell_type": "code",
      "metadata": {
        "id": "FFHlXKw-qGAc"
      },
      "source": [
        "import operator as op\n",
        "from functools import reduce\n",
        "\n",
        "def nCk(n, k):\n",
        "  '''\n",
        "  Code gotten from https://stackoverflow.com/questions/4941753/is-there-a-math-ncr-function-in-python\n",
        "  '''\n",
        "  k = min(k, n-k)\n",
        "  numer = reduce(op.mul, range(n, n-k, -1), 1)\n",
        "  denom = reduce(op.mul, range(1, k+1), 1)\n",
        "  return numer // denom"
      ],
      "execution_count": null,
      "outputs": []
    },
    {
      "cell_type": "code",
      "metadata": {
        "id": "3GLQFJSMoZO9"
      },
      "source": [
        "from math import floor, log2, log\n",
        "\n",
        "def bitsoncount(x):\n",
        "  return bin(x).count('1')\n",
        "\n",
        "def prime_fact2(m):\n",
        "  count = 0\n",
        "  while m % 2 == 0 and m != 0: \n",
        "        count += 1\n",
        "        m = m // 2\n",
        "  return count\n",
        "\n",
        "def two_nCn(n):\n",
        "  return nCk(2 * n, n)"
      ],
      "execution_count": null,
      "outputs": []
    },
    {
      "cell_type": "code",
      "metadata": {
        "id": "5-VhK04syxkK",
        "tags": []
      },
      "source": [
        "def verify_conjecture(n):\n",
        "  exception = 0\n",
        "  if prime_fact2(two_nCn(n)) != bitsoncount(n):\n",
        "    exception = 1\n",
        "  return exception"
      ],
      "execution_count": null,
      "outputs": []
    },
    {
      "cell_type": "code",
      "metadata": {
        "id": "0NqZaLWmz59b",
        "outputId": "ef1c6abc-534a-4b02-a2b7-09f3ad398c7f"
      },
      "source": [
        "import datetime\n",
        "print('Started at ' + str(datetime.datetime.now()))\n",
        "n = 1\n",
        "exceptions = 0\n",
        "try:\n",
        "  while True:\n",
        "    exceptions += verify_conjecture(n)\n",
        "    n += 1\n",
        "except:\n",
        "  print('Verified up to ' + str(n) + ' at ' + str(datetime.datetime.now()) + \" with \" + str(exceptions) + \" exceptions.\")"
      ],
      "execution_count": null,
      "outputs": [
        {
          "output_type": "stream",
          "text": [
            "Started at 2021-02-04 12:37:11.979417\n",
            "Verified up to 80221 at 2021-02-05 12:56:46.990492 with 0 exceptions.\n"
          ],
          "name": "stdout"
        }
      ]
    },
    {
      "cell_type": "markdown",
      "metadata": {
        "id": "TrMKG-WvmJO6"
      },
      "source": [
        "## Basic Probability Theory Question\n",
        "A dark room contains two barrels. The first barrel is filled with green marbles, the second is filled with a half-and-half mixture of green and blue marbles. So there's a 100% chance of choosing a green marble from the first barrel, and a 50% chance of choosing either color in the second barrel. You reach into one of the barrels (it's dark so you don't know which one) and select a marble at random. It's green. You select another. It's green too. You select a third, a fourth, a fifth, etc. Green each time. What is the *minimum* number of marbles you need to select to *exceed* a probability of 99% that you are picking them out of the all-green barrel? (Note that there are enough marbles so that the answer does not depend on how many marbles are in the second barrel.)\n"
      ]
    },
    {
      "cell_type": "code",
      "metadata": {
        "id": "BCrJThL0oJCn",
        "colab": {
          "base_uri": "https://localhost:8080/"
        },
        "outputId": "5d68fb64-94a6-422c-ab4c-c5328d70315c"
      },
      "source": [
        "probability = (1/2)\r\n",
        "marbles_picked = 1\r\n",
        "while probability >= (1/100):\r\n",
        "  marbles_picked += 1\r\n",
        "  probability = probability * (1/2)\r\n",
        "print(marbles_picked)"
      ],
      "execution_count": null,
      "outputs": [
        {
          "output_type": "stream",
          "text": [
            "7\n"
          ],
          "name": "stdout"
        }
      ]
    },
    {
      "cell_type": "markdown",
      "metadata": {
        "id": "RSTUUkmUouj3"
      },
      "source": [
        "Picking 7 green marbles means there is over a 99% probability you are choosing marbles from the all-green barrel. "
      ]
    },
    {
      "cell_type": "markdown",
      "metadata": {
        "id": "dj9vrR3LmJO7"
      },
      "source": [
        "## A Related But Deeper Basic Probability Theory Question\n",
        "Take a deep breath. Suppose Shakespeare's account is accurate and Julius Caesar gasped \"You too, Brutus\" before breathing his last. What is the probability that you just inhaled a molecule that Julius Caesar exhaled in his dying breath?\n",
        "\n",
        "Assume that after more than two thousand years the exhaled molecules are uniformly spread about the world and the vast majority are still free in the atmosphere. Assume further that there are $10^{44}$ molecules of air in the world, and that your inhaled quantity and Caesar's exhaled quantity were each about $2.2 \\times 10^{22}$ molecules.\n",
        "### Hint\n",
        "If a number $x$ is small, then $(1 - x)$ is approximately equal to $e^{-x}$.\n"
      ]
    },
    {
      "cell_type": "markdown",
      "metadata": {
        "id": "G1D08lP2rBdd"
      },
      "source": [
        "The probability that \n",
        "\n",
        "P(Breathing-Same) = 1 - P(Not-Breathing-Same)\n",
        "\n",
        "P(Not-Breathing-Same) = P(Not-Breathing-One-Molecule) ^ n, where n is the number of molecules breathed in\n",
        "\n",
        "P(Not-Breathing-One-Molecule) = 1 - P(Breathing-One-Molecule)\n",
        "\n",
        "P(Breathing-One-Molecule) = n / w, where n is the number of molecules exhaled and w is the molecules of air in the world\n",
        "\n",
        "Thus, \n",
        "$$\n",
        "P(Breathing-Same) = 1 - ((1 - n / w)^n)\\\\\n",
        "= 1 - ((1 - (2.2 \\times 10^{22} / 10^{44})) ^ {2.2 \\times 10^{22}})\\\\\n",
        "\\approx e^{-((1 - (2.2 \\times 10^{22} / 10^{44})) ^ {2.2 \\times 10^{22}})}\\\\\n",
        "\\approx e^{-((e^{-(2.2 \\times 10^{22} / 10^{44})}) ^ {2.2 \\times 10^{22}})}\\\\\n",
        "\\approx e^{-(e^{-(2.2 \\times 10^{22} * 2.2 \\times 10^{22} / 10^{44})})}\\\\\n",
        "\\approx e^{-(e^{-4.84})}\n",
        "$$\n"
      ]
    },
    {
      "cell_type": "code",
      "metadata": {
        "id": "9s8HPVd3q0GY",
        "colab": {
          "base_uri": "https://localhost:8080/"
        },
        "outputId": "c2bc8eea-7ac5-40fc-f92f-805a2dcf4288"
      },
      "source": [
        "from math import e\n",
        "\n",
        "e**(-(e**(-4.84)))"
      ],
      "execution_count": null,
      "outputs": [
        {
          "output_type": "execute_result",
          "data": {
            "text/plain": [
              "0.9921241244694242"
            ]
          },
          "metadata": {
            "tags": []
          },
          "execution_count": 6
        }
      ]
    },
    {
      "cell_type": "markdown",
      "metadata": {
        "id": "3MLw5RARmJO7"
      },
      "source": [
        "## What is True?\n",
        "Assess yourself on how you did using the checkboxes below. Check a box by putting an 'X' in it only if it is warranted.\n"
      ]
    },
    {
      "cell_type": "markdown",
      "metadata": {
        "id": "G5_qRg2AmJO7"
      },
      "source": [
        "### What is true of my experience in general?\n",
        "(5 points each, 15 points total)\n",
        "- [X] I had fun.\n",
        "- [X] I learned something new.\n",
        "- [X] I achieved something meaningful, or something I can build upon at a later time."
      ]
    },
    {
      "cell_type": "markdown",
      "metadata": {
        "id": "4Ad9hMbamJO8"
      },
      "source": [
        "### What is true of my report on what I learned?\n",
        "(5 points each, 25 points total)\n",
        "- [X] I wrote a sufficient number of well-written sentences.\n",
        "- [X] My report is free of \"mechanical infelicities\" (misspelled words, grammatical errors, punctuation errors, etc.).\n",
        "- [X] I reported on any connections I found between this investigation and something I already know.\n",
        "- [X] I reported who were and what contribution each of my collaborators made.\n",
        "- [X] I reported on how many numbers I was able to verify with a time/computation budget of 24 hours (in a row).\n"
      ]
    },
    {
      "cell_type": "markdown",
      "metadata": {
        "id": "zQKaByMomJO8"
      },
      "source": [
        "### What is true about my answers?\n",
        "(15 points each, 60 points total)\n",
        "- [X] I figured out how to run a Python program continuously for at least 24 hours.\n",
        "- [X] I refrained from printing out anything except the highest number I verified, knowing that printing just slows a program down.\n",
        "- [X] I got the right answer for the first probability theory question.\n",
        "- [X] I got the right answer for the second probability theory question.\n"
      ]
    }
  ]
}