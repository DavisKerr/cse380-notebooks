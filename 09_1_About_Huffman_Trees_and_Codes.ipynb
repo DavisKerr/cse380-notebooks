{
  "nbformat": 4,
  "nbformat_minor": 0,
  "metadata": {
    "colab": {
      "name": "09_1_About_Huffman_Trees_and_Codes.ipynb",
      "provenance": [],
      "collapsed_sections": [],
      "include_colab_link": true
    },
    "kernelspec": {
      "name": "python3",
      "display_name": "Python 3"
    }
  },
  "cells": [
    {
      "cell_type": "markdown",
      "metadata": {
        "id": "view-in-github",
        "colab_type": "text"
      },
      "source": [
        "<a href=\"https://colab.research.google.com/github/DavisKerr/cse380-notebooks/blob/master/09_1_About_Huffman_Trees_and_Codes.ipynb\" target=\"_parent\"><img src=\"https://colab.research.google.com/assets/colab-badge.svg\" alt=\"Open In Colab\"/></a>"
      ]
    },
    {
      "cell_type": "markdown",
      "metadata": {
        "id": "VPy5vbgRQBMQ"
      },
      "source": [
        "# About Huffman Trees and Codes\n",
        "## Divide Pair Conquer\n",
        "### Due: Monday, 1 March 2021, 11:59 pm"
      ]
    },
    {
      "cell_type": "markdown",
      "metadata": {
        "id": "sgaSqpkyQMwl"
      },
      "source": [
        "## Goal"
      ]
    },
    {
      "cell_type": "markdown",
      "metadata": {
        "id": "_YpNGyjWQbVx"
      },
      "source": [
        "Review Huffman Trees and Codes from DM1 to get ready for your Ponder and Prove assignment."
      ]
    },
    {
      "cell_type": "code",
      "metadata": {
        "id": "7C-ClNTHQkFw",
        "colab": {
          "base_uri": "https://localhost:8080/"
        },
        "outputId": "644e3e9e-9a8d-472a-93b8-f92b7717d533"
      },
      "source": [
        "from math import ceil, log\n",
        "from collections import Counter\n",
        "\n",
        "def show_results(message, code_tuples):\n",
        "  total_characters = len(message)\n",
        "  total_unique_characters = len(code_tuples)\n",
        "  total_bits = 0\n",
        "  for char, count, code in code_tuples:\n",
        "    total_bits += count * len(code)\n",
        "  average_bits_per_character = total_bits / total_characters\n",
        "  fixed_bits_per_character = ceil(log(total_unique_characters, 2))\n",
        "  total_fixed_bits = total_characters * fixed_bits_per_character\n",
        "  compression_ratio = (total_fixed_bits - total_bits) / total_fixed_bits\n",
        "  print(f'          Total Characters: {total_characters}')\n",
        "  print(f'   Total Unique Characters: {total_unique_characters}')\n",
        "  print(f'                Total Bits: {total_bits}')\n",
        "  print(f'Average Bits per Character: {average_bits_per_character:.2f}')\n",
        "  print(f'  Fixed Bits per Character: {fixed_bits_per_character}')\n",
        "  print(f'          Total Fixed Bits: {total_fixed_bits}')\n",
        "  print(f'         Compression Ratio: {compression_ratio:.3f}')\n",
        "\n",
        "message1 = 'thebookofmormon'\n",
        "counter1 = Counter(message1)\n",
        "\n",
        "print(message1, '-->', counter1)\n",
        "\n",
        "message2 = 'therestoration'\n",
        "\n",
        "counter2 = Counter(message2)\n",
        "\n",
        "print(message2, '-->', counter2)"
      ],
      "execution_count": 1,
      "outputs": [
        {
          "output_type": "stream",
          "text": [
            "thebookofmormon --> Counter({'o': 5, 'm': 2, 't': 1, 'h': 1, 'e': 1, 'b': 1, 'k': 1, 'f': 1, 'r': 1, 'n': 1})\n",
            "therestoration --> Counter({'t': 3, 'e': 2, 'r': 2, 'o': 2, 'h': 1, 's': 1, 'a': 1, 'i': 1, 'n': 1})\n"
          ],
          "name": "stdout"
        }
      ]
    },
    {
      "cell_type": "markdown",
      "metadata": {
        "id": "YnsvrdQkRZIP"
      },
      "source": [
        "### Which message has the lower compression ratio?"
      ]
    },
    {
      "cell_type": "markdown",
      "metadata": {
        "id": "ZQZ9qfo-RgDB"
      },
      "source": [
        "#### Message 1"
      ]
    },
    {
      "cell_type": "markdown",
      "metadata": {
        "id": "66pMEoO_Rkb3"
      },
      "source": [
        "Do all the steps, like the examples in the book, first sorting the counted occurrences:\n",
        "\n",
        "| Char | # |\n",
        "|------|---|\n",
        "|   b  | 1 |\n",
        "|   e  | 1 |\n",
        "|   f  | 1 |\n",
        "|   h  | 1 |\n",
        "|   k  | 1 |\n",
        "|   n  | 1 |\n",
        "|   r  | 1 |\n",
        "|   t  | 1 |\n",
        "|   m  | 2 |\n",
        "|   o  | 5 |"
      ]
    },
    {
      "cell_type": "markdown",
      "metadata": {
        "id": "Sf-Wc2SvSMvh"
      },
      "source": [
        "##### The ever-shrinking queue:"
      ]
    },
    {
      "cell_type": "markdown",
      "metadata": {
        "id": "1NVAHiTySQUZ"
      },
      "source": [
        "* b1 e1 f1 h1 k1 n1 r1 t1 m2 o5\n",
        "* f1 h1 k1 n1 r1 t1 m2 be2 o5\n",
        "* k1 n1 r1 t1 m2 be2 fh2 o5\n",
        "* r1 t1 m2 be2 fh2 kn2 o5\n",
        "* m2 be2 fh2 kn2 rt2 o5\n",
        "* fh2 kn2 rt2 mbe4 o5\n",
        "* rt2 meb4 fhkn4 o5\n",
        "* fhkn4 o5 rtmeb6\n",
        "* rtmbe6 fhkno9\n",
        "* rtmbefhkno15"
      ]
    },
    {
      "cell_type": "markdown",
      "metadata": {
        "id": "FQ542b55SnRo"
      },
      "source": [
        "##### The Huffman Tree:"
      ]
    },
    {
      "cell_type": "code",
      "metadata": {
        "id": "JEatqgo2S2GS",
        "colab": {
          "base_uri": "https://localhost:8080/",
          "height": 52
        },
        "outputId": "44751513-fb92-4667-ab17-339b808e7a1e"
      },
      "source": [
        "'''\n",
        "       rtmbefhkno15\n",
        "         /        \\\n",
        "     rtmbe6      fhkno9\n",
        "     /   \\        /    \\\n",
        "  rt2   mbe4   fhkn4   o5\n",
        "  /\\    / \\     /   \\\n",
        "r1 t1 m2 be2  fh2   kn2\n",
        "         / \\  / \\   / \\\n",
        "       b1 e1 f1 h1 k1 n1\n",
        "'''"
      ],
      "execution_count": 2,
      "outputs": [
        {
          "output_type": "execute_result",
          "data": {
            "application/vnd.google.colaboratory.intrinsic+json": {
              "type": "string"
            },
            "text/plain": [
              "'\\n       rtmbefhkno15\\n         /             rtmbe6      fhkno9\\n     /   \\\\        /      rt2   mbe4   fhkn4   o5\\n  /\\\\    / \\\\     /   r1 t1 m2 be2  fh2   kn2\\n         / \\\\  / \\\\   /        b1 e1 f1 h1 k1 n1\\n'"
            ]
          },
          "metadata": {
            "tags": []
          },
          "execution_count": 2
        }
      ]
    },
    {
      "cell_type": "markdown",
      "metadata": {
        "id": "Zz3k9BfdSqMh"
      },
      "source": [
        "##### The Code Tuples"
      ]
    },
    {
      "cell_type": "markdown",
      "metadata": {
        "id": "k8NwLvJzTzOd"
      },
      "source": [
        "Read the codes from the tree:"
      ]
    },
    {
      "cell_type": "code",
      "metadata": {
        "colab": {
          "base_uri": "https://localhost:8080/"
        },
        "id": "7dT6TB3MS7wY",
        "outputId": "fff712d8-1f2e-4f22-f10a-a70409c92fd1"
      },
      "source": [
        "message1_code_tuples = \\\n",
        "[('b', 1, '0110'),\n",
        " ('e', 1, '0111'),\n",
        " ('f', 1, '1000'),\n",
        " ('h', 1, '1001'),\n",
        " ('k', 1, '1010'),\n",
        " ('m', 2, '010'),\n",
        " ('n', 1, '1011'),\n",
        " ('o', 5, '11'),\n",
        " ('r', 1, '000'),\n",
        " ('t', 1, '001'),\n",
        "]\n",
        "\n",
        "show_results(message1, message1_code_tuples)"
      ],
      "execution_count": 3,
      "outputs": [
        {
          "output_type": "stream",
          "text": [
            "          Total Characters: 15\n",
            "   Total Unique Characters: 10\n",
            "                Total Bits: 46\n",
            "Average Bits per Character: 3.07\n",
            "  Fixed Bits per Character: 4\n",
            "          Total Fixed Bits: 60\n",
            "         Compression Ratio: 0.233\n"
          ],
          "name": "stdout"
        }
      ]
    },
    {
      "cell_type": "markdown",
      "metadata": {
        "id": "EekOyNAyVbY3"
      },
      "source": [
        "#### Message 2"
      ]
    },
    {
      "cell_type": "markdown",
      "metadata": {
        "id": "5ktqJRmOVbY3"
      },
      "source": [
        "Do all the steps, like the examples in the book, first sorting the counted occurrences:\n",
        "\n",
        "| Char | # |\n",
        "|------|---|\n",
        "|   a  | 1 |\n",
        "|   h  | 1 |\n",
        "|   i  | 1 |\n",
        "|   n  | 1 |\n",
        "|   s  | 1 |\n",
        "|   e  | 2 |\n",
        "|   o  | 2 |\n",
        "|   r  | 2 |\n",
        "|   t  | 3 |"
      ]
    },
    {
      "cell_type": "markdown",
      "metadata": {
        "id": "BjOIgAZZVbY4"
      },
      "source": [
        "##### The ever-shrinking queue:"
      ]
    },
    {
      "cell_type": "markdown",
      "metadata": {
        "id": "LEVjSFE9VbY4"
      },
      "source": [
        "* a1 h1 i1 n1 s1 e2 o2 r2 t3\n",
        "* i1 n1 s1 e2 o2 r2 ah2 t3\n",
        "* s1 e2 o2 r2 ah2 in2 t3\n",
        "* o2 r2 ah2 in2 t3 se3\n",
        "* ah2 in2 t3 se3 or4\n",
        "* t3 se3 or4 ahin4\n",
        "* or4 ahin4 tse6\n",
        "* tse6 orahin8\n",
        "* tseorahin14"
      ]
    },
    {
      "cell_type": "markdown",
      "metadata": {
        "id": "ZeozgfOLVbY4"
      },
      "source": [
        "##### The Huffman Tree:"
      ]
    },
    {
      "cell_type": "code",
      "metadata": {
        "id": "-2FB2vHtVbY4",
        "colab": {
          "base_uri": "https://localhost:8080/",
          "height": 52
        },
        "outputId": "6d465b21-20b2-4d14-c7d4-87ae7b551c42"
      },
      "source": [
        "'''\n",
        "    tseorahin14\n",
        "    /        \\\n",
        " tse6     orahin8\n",
        "  / \\      /    \\\n",
        "t3 se3   or4   ahin4\n",
        "   / \\   / \\    /   \\\n",
        "  s1 e2 o2 r2 ah2   in2\n",
        "              / \\   / \\\n",
        "             a1 h1 i1 n1\n",
        "'''"
      ],
      "execution_count": 4,
      "outputs": [
        {
          "output_type": "execute_result",
          "data": {
            "application/vnd.google.colaboratory.intrinsic+json": {
              "type": "string"
            },
            "text/plain": [
              "'\\n    tseorahin14\\n    /         tse6     orahin8\\n  / \\\\      /    t3 se3   or4   ahin4\\n   / \\\\   / \\\\    /     s1 e2 o2 r2 ah2   in2\\n              / \\\\   /              a1 h1 i1 n1\\n'"
            ]
          },
          "metadata": {
            "tags": []
          },
          "execution_count": 4
        }
      ]
    },
    {
      "cell_type": "markdown",
      "metadata": {
        "id": "Weh87t4iVbY6"
      },
      "source": [
        "##### The Code Tuples"
      ]
    },
    {
      "cell_type": "markdown",
      "metadata": {
        "id": "-uihVyZuVbY6"
      },
      "source": [
        "Read the codes from the tree:"
      ]
    },
    {
      "cell_type": "code",
      "metadata": {
        "id": "3J20ht-dVbY6",
        "colab": {
          "base_uri": "https://localhost:8080/"
        },
        "outputId": "33eac43c-96e2-4f0f-baa2-af0e94b8c62c"
      },
      "source": [
        "message2_code_tuples = \\\n",
        "[('a', 1, '1100'),\n",
        " ('e', 2, '011'),\n",
        " ('h', 1, '1101'),\n",
        " ('i', 1, '1110'),\n",
        " ('n', 1, '1111'),\n",
        " ('o', 2, '100'),\n",
        " ('r', 2, '101'),\n",
        " ('s', 1, '010'),\n",
        " ('t', 3, '00'),\n",
        "]\n",
        "\n",
        "show_results(message2, message2_code_tuples)"
      ],
      "execution_count": 5,
      "outputs": [
        {
          "output_type": "stream",
          "text": [
            "          Total Characters: 14\n",
            "   Total Unique Characters: 9\n",
            "                Total Bits: 43\n",
            "Average Bits per Character: 3.07\n",
            "  Fixed Bits per Character: 4\n",
            "          Total Fixed Bits: 56\n",
            "         Compression Ratio: 0.232\n"
          ],
          "name": "stdout"
        }
      ]
    },
    {
      "cell_type": "markdown",
      "metadata": {
        "id": "iNVsz1Pixjxg"
      },
      "source": [
        "### TODO Create Data Tree and Code"
      ]
    },
    {
      "cell_type": "code",
      "metadata": {
        "id": "tL7goTpcZa38"
      },
      "source": [
        ""
      ],
      "execution_count": 5,
      "outputs": []
    },
    {
      "cell_type": "markdown",
      "metadata": {
        "id": "5HGwfaArxmyg"
      },
      "source": [
        "More warmup for your Ponder and Prove assignment this week:\n",
        "\n",
        "Create a Huffman Tree and codes for the gaps between the first few prime (except for the gap of size 1 between 2 and 3). Your goal is to find how many is \"few\" enough to have a compression ratio **better than 24%**.\n"
      ]
    },
    {
      "cell_type": "code",
      "metadata": {
        "colab": {
          "base_uri": "https://localhost:8080/"
        },
        "id": "7TBjHxPqx9WI",
        "outputId": "7e58e78a-d0b7-4782-f6e3-f142de7749cf"
      },
      "source": [
        "from sympy import primerange\n",
        "\n",
        "list_of_gaps = []\n",
        "prev = 3\n",
        "gap = 0\n",
        "for prime in list(primerange(4, 12)):\n",
        "    gap = prime - prev\n",
        "    #print(gap)\n",
        "    prev = prime\n",
        "    list_of_gaps.append(gap)\n",
        "\n",
        "print(list_of_gaps)"
      ],
      "execution_count": 6,
      "outputs": [
        {
          "output_type": "stream",
          "text": [
            "[2, 2, 4]\n"
          ],
          "name": "stdout"
        }
      ]
    },
    {
      "cell_type": "code",
      "metadata": {
        "id": "QCp2MzR23uHC",
        "colab": {
          "base_uri": "https://localhost:8080/"
        },
        "outputId": "7cba5e51-cf5f-4cbb-e22f-8ac2000831a1"
      },
      "source": [
        "sorted(list_of_gaps)\r\n",
        "freq_queue = list(set([(num, list_of_gaps.count(num)) for num in list_of_gaps]))\r\n",
        "freq_queue.sort(key = lambda x: x[1])\r\n",
        "print(freq_queue)"
      ],
      "execution_count": 7,
      "outputs": [
        {
          "output_type": "stream",
          "text": [
            "[(4, 1), (2, 2)]\n"
          ],
          "name": "stdout"
        }
      ]
    },
    {
      "cell_type": "markdown",
      "metadata": {
        "id": "Rf4tHE9B33ad"
      },
      "source": [
        "| gap size | # |\r\n",
        "|------|---|\r\n",
        "|   Two  | 8 |\r\n",
        "|   Four  | 7 |\r\n",
        "|   Six  | 7 |\r\n",
        "|   Eight  | 1 |\r\n"
      ]
    },
    {
      "cell_type": "markdown",
      "metadata": {
        "id": "WW4W_0mZ4UWP"
      },
      "source": [
        "Step 1: Eight-1 Four-7 Six-7 Two-8 <br>\r\n",
        "Step 2: Six-7 Two-8 EightFour-8 <br>\r\n",
        "Step 3: EightFour-8 SixTwo-15 <br>\r\n",
        "Step 4: EightFourSixTwo-23"
      ]
    },
    {
      "cell_type": "code",
      "metadata": {
        "id": "dnUOJJUD5iwA",
        "colab": {
          "base_uri": "https://localhost:8080/",
          "height": 52
        },
        "outputId": "4f4c5a4f-49b0-466a-8e66-3c3d0b5d5f96"
      },
      "source": [
        "'''\r\n",
        "                EightFourSixTwo\r\n",
        "                /             \\\r\n",
        "               /               \\\r\n",
        "            EightFour         SixTwo \r\n",
        "            /       \\        /      \\\r\n",
        "           /         \\      /        \\\r\n",
        "         Eight       Four Six        Two\r\n",
        "'''"
      ],
      "execution_count": 8,
      "outputs": [
        {
          "output_type": "execute_result",
          "data": {
            "application/vnd.google.colaboratory.intrinsic+json": {
              "type": "string"
            },
            "text/plain": [
              "'\\n                EightFourSixTwo\\n                /                            /                           EightFour         SixTwo \\n            /       \\\\        /                 /         \\\\      /                 Eight       Four Six        Two\\n'"
            ]
          },
          "metadata": {
            "tags": []
          },
          "execution_count": 8
        }
      ]
    },
    {
      "cell_type": "markdown",
      "metadata": {
        "id": "9U4jqdHy6Qju"
      },
      "source": [
        "| gap size | Huffman Encoding | Fixed Length encoding |\r\n",
        "|------|---| --- |\r\n",
        "|   Two  | 11 | 11 |\r\n",
        "|   Four  | 01 | 01 |\r\n",
        "|   Six  | 10 | 10 |\r\n",
        "|   Eight  | 00 | 00 |"
      ]
    },
    {
      "cell_type": "code",
      "metadata": {
        "id": "kdIaAnd96gUf"
      },
      "source": [
        "def buildTree(queue):\r\n",
        "    arr = []\r\n",
        "    while len(queue) > 1:\r\n",
        "        if(len(queue) > 2):\r\n",
        "            item = ([queue[0][0], queue[1][0]], queue[0][1] + queue[1][1])\r\n",
        "            queue = insertQueue(queue[2:], item)\r\n",
        "        else:\r\n",
        "            queue = [[queue[0][0], queue[1][0]]]\r\n",
        "            \r\n",
        "    return queue[0]\r\n",
        "\r\n",
        "def insertQueue(queue, item):\r\n",
        "    index = len(queue) // 2\r\n",
        "    val = item[1]\r\n",
        "    found = False\r\n",
        "    end = len(queue) - 1\r\n",
        "    while not found:\r\n",
        "        if queue[index][1] > val: \r\n",
        "            if(index != 0):\r\n",
        "                if(queue[index - 1][1] < val):\r\n",
        "                    found = True\r\n",
        "                    queue.insert(index, item)\r\n",
        "                    break\r\n",
        "                else:\r\n",
        "                    end = index\r\n",
        "                    index = len(queue[0:index]) // 2\r\n",
        "            else:\r\n",
        "                queue.insert(0, item)\r\n",
        "                break\r\n",
        "        else:\r\n",
        "            if(index != len(queue) - 1):\r\n",
        "                if(queue[index + 1][1] > val):\r\n",
        "                    found = True\r\n",
        "                    queue.insert(index + 1, item)\r\n",
        "                    break\r\n",
        "                else:\r\n",
        "                    index = (len(queue[index + 1: end]) // 2) + index + 1\r\n",
        "            else:\r\n",
        "                found = True\r\n",
        "                queue.append(item)\r\n",
        "                break\r\n",
        "    return queue"
      ],
      "execution_count": 9,
      "outputs": []
    },
    {
      "cell_type": "code",
      "metadata": {
        "id": "QCKRQhBg98r2"
      },
      "source": [
        "def get_encoding(huffman_tree, path='', huffman_table={}):\r\n",
        "  if isinstance(huffman_tree, int):\r\n",
        "    huffman_table[huffman_tree] = path\r\n",
        "    return huffman_table\r\n",
        "\r\n",
        "  if huffman_tree[0]:\r\n",
        "    huffman_table = get_encoding(huffman_tree[0], path + '0')\r\n",
        "\r\n",
        "  if huffman_tree[1]:\r\n",
        "    huffman_table = get_encoding(huffman_tree[1], path + '1')\r\n",
        "\r\n",
        "  return huffman_table\r\n",
        "# [(8: 100), (5: 001)]"
      ],
      "execution_count": 15,
      "outputs": []
    },
    {
      "cell_type": "code",
      "metadata": {
        "id": "tH1Txqs4DQ0V"
      },
      "source": [
        "from math import log, ceil\r\n",
        "\r\n",
        "def get_comp_ratio(code_tuples, message):\r\n",
        "  total_characters = len(message)\r\n",
        "  total_unique_characters = len(code_tuples)\r\n",
        "  total_bits = 0\r\n",
        "  for char, count, code in code_tuples:\r\n",
        "    total_bits += count * len(code)\r\n",
        "  average_bits_per_character = total_bits / total_characters\r\n",
        "  fixed_bits_per_character = ceil(log(total_unique_characters, 2))\r\n",
        "  total_fixed_bits = total_characters * fixed_bits_per_character\r\n",
        "  compression_ratio = (total_fixed_bits - total_bits) / total_fixed_bits\r\n",
        "  return compression_ratio * 100"
      ],
      "execution_count": 11,
      "outputs": []
    },
    {
      "cell_type": "code",
      "metadata": {
        "id": "Km_KsjxcK3FO"
      },
      "source": [
        "def primeList(range):\r\n",
        "  list_of_gaps = []\r\n",
        "  prev = 3\r\n",
        "  gap = 0\r\n",
        "  for prime in list(primerange(4, range)):\r\n",
        "    gap = prime - prev\r\n",
        "    #print(gap)\r\n",
        "    prev = prime\r\n",
        "    list_of_gaps.append(gap)\r\n",
        "  return list_of_gaps"
      ],
      "execution_count": 12,
      "outputs": []
    },
    {
      "cell_type": "code",
      "metadata": {
        "id": "9fCeaCxXJexT"
      },
      "source": [
        "def get_first_gap_ratio_over_24():\r\n",
        "  best = 0.00\r\n",
        "  highest = 12\r\n",
        "  while best <= 24.00:\r\n",
        "    \r\n",
        "    table = {}\r\n",
        "    encoding_table = {}\r\n",
        "    list_of_gaps = []\r\n",
        "    freq_queue = []\r\n",
        "    tree = []\r\n",
        "    final_table = []\r\n",
        "\r\n",
        "    list_of_gaps = primeList(highest)\r\n",
        "    list_of_gaps.sort()\r\n",
        "    freq_queue = list(set([(num, list_of_gaps.count(num)) for num in list_of_gaps]))\r\n",
        "    freq_queue.sort(key = lambda x: x[1])\r\n",
        "    tree = buildTree(freq_queue)\r\n",
        "    print(tree)\r\n",
        "    encoding_table = get_encoding(tree)\r\n",
        "    print(encoding_table)\r\n",
        "    final_table = [(key, list_of_gaps.count(key), encoding_table[key]) for key in encoding_table]\r\n",
        "    print(final_table)\r\n",
        "    #show_results(list_of_gaps, final_table)\r\n",
        "    best = get_comp_ratio(final_table, list_of_gaps)\r\n",
        "    print(best)\r\n",
        "    highest += 1\r\n",
        "  print(f'The first ratio is {best}% which has prime gaps up to {highest - 1}')"
      ],
      "execution_count": 13,
      "outputs": []
    },
    {
      "cell_type": "code",
      "metadata": {
        "colab": {
          "base_uri": "https://localhost:8080/"
        },
        "id": "x4Lf5cIKKTUQ",
        "outputId": "89559736-01bc-4161-b31b-002a7fcf9993"
      },
      "source": [
        "get_first_gap_ratio_over_24()"
      ],
      "execution_count": 16,
      "outputs": [
        {
          "output_type": "stream",
          "text": [
            "[4, 2]\n",
            "{4: '0', 2: '1'}\n",
            "[(4, 1, '0'), (2, 2, '1')]\n",
            "0.0\n",
            "[4, 2]\n",
            "{4: '0', 2: '1'}\n",
            "[(4, 1, '0'), (2, 2, '1')]\n",
            "0.0\n",
            "[4, 2]\n",
            "{4: '0', 2: '1'}\n",
            "[(4, 1, '0'), (2, 3, '1')]\n",
            "0.0\n",
            "[4, 2]\n",
            "{4: '0', 2: '1'}\n",
            "[(4, 1, '0'), (2, 3, '1')]\n",
            "0.0\n",
            "[4, 2]\n",
            "{4: '0', 2: '1'}\n",
            "[(4, 1, '0'), (2, 3, '1')]\n",
            "0.0\n",
            "[4, 2]\n",
            "{4: '0', 2: '1'}\n",
            "[(4, 1, '0'), (2, 3, '1')]\n",
            "0.0\n",
            "[4, 2]\n",
            "{4: '0', 2: '1'}\n",
            "[(4, 2, '0'), (2, 3, '1')]\n",
            "0.0\n",
            "[4, 2]\n",
            "{4: '0', 2: '1'}\n",
            "[(4, 2, '0'), (2, 3, '1')]\n",
            "0.0\n",
            "[4, 2]\n",
            "{4: '0', 2: '1'}\n",
            "[(4, 2, '0'), (2, 4, '1')]\n",
            "0.0\n",
            "[4, 2]\n",
            "{4: '0', 2: '1'}\n",
            "[(4, 2, '0'), (2, 4, '1')]\n",
            "0.0\n",
            "[4, 2]\n",
            "{4: '0', 2: '1'}\n",
            "[(4, 2, '0'), (2, 4, '1')]\n",
            "0.0\n",
            "[4, 2]\n",
            "{4: '0', 2: '1'}\n",
            "[(4, 2, '0'), (2, 4, '1')]\n",
            "0.0\n",
            "[4, 2]\n",
            "{4: '0', 2: '1'}\n",
            "[(4, 3, '0'), (2, 4, '1')]\n",
            "0.0\n",
            "[4, 2]\n",
            "{4: '0', 2: '1'}\n",
            "[(4, 3, '0'), (2, 4, '1')]\n",
            "0.0\n",
            "[4, 2]\n",
            "{4: '0', 2: '1'}\n",
            "[(4, 3, '0'), (2, 4, '1')]\n",
            "0.0\n",
            "[4, 2]\n",
            "{4: '0', 2: '1'}\n",
            "[(4, 3, '0'), (2, 4, '1')]\n",
            "0.0\n",
            "[4, 2]\n",
            "{4: '0', 2: '1'}\n",
            "[(4, 3, '0'), (2, 4, '1')]\n",
            "0.0\n",
            "[4, 2]\n",
            "{4: '0', 2: '1'}\n",
            "[(4, 3, '0'), (2, 4, '1')]\n",
            "0.0\n",
            "[2, [6, 4]]\n",
            "{4: '11', 2: '0', 6: '10'}\n",
            "[(4, 3, '11'), (2, 4, '0'), (6, 1, '10')]\n",
            "25.0\n",
            "The first ratio is 25.0% which has prime gaps up to 30\n"
          ],
          "name": "stdout"
        }
      ]
    },
    {
      "cell_type": "markdown",
      "metadata": {
        "id": "bfgYW1JPlXWV"
      },
      "source": [
        "## Final answer: Prime gaps up to 30 has a 25% compression ratio"
      ]
    },
    {
      "cell_type": "markdown",
      "metadata": {
        "id": "uGzuqh-Hld33"
      },
      "source": [
        "## Above and Beyond"
      ]
    },
    {
      "cell_type": "markdown",
      "metadata": {
        "id": "9exanaBuliIm"
      },
      "source": [
        "What is the best compression ratio in prime number gaps up to 10,000"
      ]
    },
    {
      "cell_type": "code",
      "metadata": {
        "id": "yrDxK-DDlnH0"
      },
      "source": [
        "def get_best_gap_ratio():\r\n",
        "  best = 0.00\r\n",
        "  highest = 12\r\n",
        "  while highest <= 10000:\r\n",
        "    \r\n",
        "    table = {}\r\n",
        "    encoding_table = {}\r\n",
        "    list_of_gaps = []\r\n",
        "    freq_queue = []\r\n",
        "    tree = []\r\n",
        "    final_table = []\r\n",
        "\r\n",
        "    list_of_gaps = primeList(highest)\r\n",
        "    list_of_gaps.sort()\r\n",
        "    freq_queue = list(set([(num, list_of_gaps.count(num)) for num in list_of_gaps]))\r\n",
        "    freq_queue.sort(key = lambda x: x[1])\r\n",
        "    tree = buildTree(freq_queue)\r\n",
        "    #print(tree)\r\n",
        "    encoding_table = get_encoding(tree)\r\n",
        "    #print(encoding_table)\r\n",
        "    final_table = [(key, list_of_gaps.count(key), encoding_table[key]) for key in encoding_table]\r\n",
        "    #print(final_table)\r\n",
        "    #show_results(list_of_gaps, final_table)\r\n",
        "    ratio = get_comp_ratio(final_table, list_of_gaps)\r\n",
        "    if ratio > best:\r\n",
        "      best = ratio\r\n",
        "    highest += 1\r\n",
        "  print(f'The best ratio is {best}% which has prime gaps up to {highest - 1}')"
      ],
      "execution_count": 20,
      "outputs": []
    },
    {
      "cell_type": "code",
      "metadata": {
        "colab": {
          "base_uri": "https://localhost:8080/"
        },
        "id": "Y3ec-Teml7GR",
        "outputId": "ae91dbea-ff3f-449c-9c67-0e3911b90fd7"
      },
      "source": [
        "get_best_gap_ratio()"
      ],
      "execution_count": 21,
      "outputs": [
        {
          "output_type": "stream",
          "text": [
            "The best ratio is 75.0% which has prime gaps up to 10000\n"
          ],
          "name": "stdout"
        }
      ]
    },
    {
      "cell_type": "code",
      "metadata": {
        "id": "Q48iChAal8f_"
      },
      "source": [
        ""
      ],
      "execution_count": null,
      "outputs": []
    }
  ]
}