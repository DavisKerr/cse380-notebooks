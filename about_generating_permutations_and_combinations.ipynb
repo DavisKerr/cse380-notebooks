{
  "nbformat": 4,
  "nbformat_minor": 0,
  "metadata": {
    "kernelspec": {
      "display_name": "Python 3",
      "language": "python",
      "name": "python3"
    },
    "language_info": {
      "codemirror_mode": {
        "name": "ipython",
        "version": 3
      },
      "file_extension": ".py",
      "mimetype": "text/x-python",
      "name": "python",
      "nbconvert_exporter": "python",
      "pygments_lexer": "ipython3",
      "version": "3.9.0"
    },
    "colab": {
      "name": "about_generating_permutations_and_combinations.ipynb",
      "provenance": []
    }
  },
  "cells": [
    {
      "cell_type": "markdown",
      "metadata": {
        "id": "nQDdDuJ0rtH9"
      },
      "source": [
        "# About Generating Permutations and Combinations\n",
        "## Divide Pair Conquer\n",
        "### Due: Monday, 1 February 2021, 11:59pm\n"
      ]
    },
    {
      "cell_type": "markdown",
      "metadata": {
        "id": "pSZp8ff4rtIC"
      },
      "source": [
        "There are many occasions when you need to *generate* the permutations or\n",
        "combinations of a set, not just count them.\n",
        "\n",
        "There are many algorithms for generating permutations and combinations --- you\n",
        "can find them if you look.\n",
        "\n",
        "For an application, from a biographical sketch about Donald Knuth by Kenneth\n",
        "Rosen, we learn that\n"
      ]
    },
    {
      "cell_type": "markdown",
      "metadata": {
        "id": "qMSWGhTGrtID"
      },
      "source": [
        "> \"Knuth grew up in Milwaukee, where his father taught bookkeeping at a Lutheran\n",
        "high school and owned a small printing business. He was an excellent student,\n",
        "earning academic achievement awards. He applied his intelligence in\n",
        "unconventional ways, winning a contest when he was in the eighth grade by\n",
        "finding as many words as possible that could be formed from the letters in\n",
        "\n",
        "---\n",
        "\n",
        "> **Ziegler's Giant Bar**.\n",
        "\n",
        "___\n",
        "\n",
        "> This won a television set for his school and a candy bar for everyone in his class.\n"
      ]
    },
    {
      "cell_type": "markdown",
      "metadata": {
        "id": "EKZIoe6IrtID"
      },
      "source": [
        "Knuth found over 4500 words. How many can **you** find?"
      ]
    },
    {
      "cell_type": "markdown",
      "metadata": {
        "id": "1JSRbYQvtOU_"
      },
      "source": [
        "This is a permutation problem because order matters."
      ]
    },
    {
      "cell_type": "markdown",
      "metadata": {
        "id": "64WIGbmxtd-6"
      },
      "source": [
        "a = 2 <br>\r\n",
        "b = 1 <br>\r\n",
        "e = 2 <br>\r\n",
        "g = 2 <br>\r\n",
        "i = 2 <br>\r\n",
        "l = 1 <br>\r\n",
        "n = 1 <br>\r\n",
        "r = 1 <br>\r\n",
        "s = 1 <br>\r\n",
        "t = 1 <br>\r\n",
        "z = 1 <br>\r\n"
      ]
    },
    {
      "cell_type": "code",
      "metadata": {
        "id": "D9oaHNrgsiJ3"
      },
      "source": [
        "16! / (((2!) ** 5))"
      ],
      "execution_count": null,
      "outputs": []
    },
    {
      "cell_type": "code",
      "metadata": {
        "colab": {
          "base_uri": "https://localhost:8080/"
        },
        "id": "AL7AZPbfwRsO",
        "outputId": "35aa678e-8b45-49f3-ce46-756bf0af4a7b"
      },
      "source": [
        "from math import factorial as fact\r\n",
        "\r\n",
        "print( (fact(16) / ( (fact(2)) ** 5 ))  ) # Repeat for every permutation length from 1 to 16."
      ],
      "execution_count": 1,
      "outputs": [
        {
          "output_type": "stream",
          "text": [
            "653837184000.0\n"
          ],
          "name": "stdout"
        }
      ]
    },
    {
      "cell_type": "code",
      "metadata": {
        "id": "FSQDxMpwxObN"
      },
      "source": [
        "# Script to loop through dictionary and return all found permutations.\r\n",
        "import os\r\n",
        "import shutil\r\n",
        "import bs4\r\n",
        "\r\n",
        "def traverse_dictionary(file_path):\r\n",
        "    pages = []\r\n",
        "    for folder, subfolder, files in os.walk(file_path):\r\n",
        "        for f in files:\r\n",
        "            print(f'opening {f}')\r\n",
        "            myfile = open(file_path + '\\\\' + f)\r\n",
        "            page = myfile.read()\r\n",
        "            pages.append(page)\r\n",
        "    return pages\r\n",
        "\r\n",
        "def readWords(word_file):\r\n",
        "    words = []\r\n",
        "    soup = bs4.BeautifulSoup(word_file, \"lxml\")\r\n",
        "    for item in soup.select('ent'):\r\n",
        "        words.append(item.text)\r\n",
        "    print('done')\r\n",
        "    return words\r\n",
        "\r\n",
        "\r\n",
        "def process_word(word): \r\n",
        "    letters = ['z', 'i', 'e', 'g', 'l', 'e', 'r', 's', 'g', 'i', 'a', 'n', 't', 'b', 'a', 'r']\r\n",
        "\r\n",
        "    for letter in word:\r\n",
        "        if letter in letters:\r\n",
        "            letters.remove(letter)\r\n",
        "        else:\r\n",
        "            return False\r\n",
        "    return True\r\n",
        "\r\n",
        "def find_perms():\r\n",
        "    perms = 0 \r\n",
        "    words = []\r\n",
        "    file_path = 'gcide_xml-0.51\\\\gcide_xml-0.51\\\\xml_files'\r\n",
        "    pages = traverse_dictionary(file_path)\r\n",
        "\r\n",
        "    for page in pages:\r\n",
        "        words = readWords(page)\r\n",
        "        for word in words:\r\n",
        "            result = process_word(word.lower())\r\n",
        "            if result:\r\n",
        "                perms += 1\r\n",
        "                print(word)\r\n",
        "    print(f'There are {perms} words that fit this.')"
      ],
      "execution_count": 3,
      "outputs": []
    },
    {
      "cell_type": "markdown",
      "metadata": {
        "id": "3jY4Ngj5-Prk"
      },
      "source": [
        "The above code evaluates to 2,977 words that work. An xml dictionary is required to run the code, as well as the bs4 library and the xml parser library."
      ]
    },
    {
      "cell_type": "code",
      "metadata": {
        "id": "XyfkPYPlx9jg"
      },
      "source": [
        ""
      ],
      "execution_count": null,
      "outputs": []
    }
  ]
}