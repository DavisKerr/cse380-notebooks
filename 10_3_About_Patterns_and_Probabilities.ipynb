{
  "nbformat": 4,
  "nbformat_minor": 0,
  "metadata": {
    "colab": {
      "name": "10_3_About_Patterns_and_Probabilities.ipynb",
      "provenance": [],
      "include_colab_link": true
    },
    "kernelspec": {
      "name": "python3",
      "display_name": "Python 3"
    }
  },
  "cells": [
    {
      "cell_type": "markdown",
      "metadata": {
        "id": "view-in-github",
        "colab_type": "text"
      },
      "source": [
        "<a href=\"https://colab.research.google.com/github/DavisKerr/cse380-notebooks/blob/master/10_3_About_Patterns_and_Probabilities.ipynb\" target=\"_parent\"><img src=\"https://colab.research.google.com/assets/colab-badge.svg\" alt=\"Open In Colab\"/></a>"
      ]
    },
    {
      "cell_type": "markdown",
      "metadata": {
        "id": "ORT063X6qemA"
      },
      "source": [
        "# About Patterns and Probabilities\n",
        "## Class Directed Learning\n",
        "### Due: Tuesday, 9 March 2021, 11:59 pm"
      ]
    },
    {
      "cell_type": "markdown",
      "metadata": {
        "id": "3uLuCScqqu_B"
      },
      "source": [
        "## TODO Explore and Wonder"
      ]
    },
    {
      "cell_type": "markdown",
      "metadata": {
        "id": "NxqhXwDAq2-t"
      },
      "source": [
        "Regarding spanning trees of ladder graphs:\n",
        "\n",
        "What is the probability ($\\lim_{n \\rightarrow \\infty} P(n)$) that a randomly-selected spanning tree of an $n$-rung ladder graph contains the bottom rung?\n",
        "\n",
        "| n | P(n) |\n",
        "|---|------|\n",
        "| 1 |   1   |\n",
        "| 2 |   .75   |\n",
        "| 3 |   .733   |\n",
        "| 4 |    .732  |\n",
        "| 5 |    .732  |\n"
      ]
    },
    {
      "cell_type": "code",
      "metadata": {
        "id": "SqW74FOeGZVh"
      },
      "source": [
        "from math import factorial as fact\r\n",
        "from math import sqrt, ceil\r\n",
        "def nCk(n, k):\r\n",
        "  return (fact(n)) / ((fact(n-k) * fact(k)))\r\n",
        "\r\n",
        "def NST2(n):\r\n",
        "  return ((((2 + sqrt(3)) ** n) - (2 - sqrt(3)) ** n) / (2 * sqrt(3)))"
      ],
      "execution_count": 1,
      "outputs": []
    },
    {
      "cell_type": "code",
      "metadata": {
        "id": "yNYByxSuGPv1"
      },
      "source": [
        "def P(n):\r\n",
        "  return (NST2(n) - NST2(n-1)) / (NST2(n))"
      ],
      "execution_count": 5,
      "outputs": []
    },
    {
      "cell_type": "code",
      "metadata": {
        "id": "wbtwK3knKXu1",
        "outputId": "719a35f7-2c3a-448b-8788-68557afb7209",
        "colab": {
          "base_uri": "https://localhost:8080/"
        }
      },
      "source": [
        "for n in range(1,100):\r\n",
        "  print(P(n))"
      ],
      "execution_count": 8,
      "outputs": [
        {
          "output_type": "stream",
          "text": [
            "1.0\n",
            "0.75\n",
            "0.7333333333333333\n",
            "0.7321428571428571\n",
            "0.7320574162679426\n",
            "0.732051282051282\n",
            "0.7320508416351769\n",
            "0.7320508100147275\n",
            "0.7320508077444814\n",
            "0.7320508075814851\n",
            "0.7320508075697825\n",
            "0.7320508075689423\n",
            "0.7320508075688819\n",
            "0.7320508075688776\n",
            "0.7320508075688773\n",
            "0.7320508075688773\n",
            "0.7320508075688773\n",
            "0.7320508075688773\n",
            "0.7320508075688774\n",
            "0.7320508075688772\n",
            "0.7320508075688773\n",
            "0.7320508075688773\n",
            "0.7320508075688773\n",
            "0.7320508075688773\n",
            "0.7320508075688773\n",
            "0.7320508075688773\n",
            "0.7320508075688773\n",
            "0.7320508075688773\n",
            "0.7320508075688773\n",
            "0.7320508075688773\n",
            "0.7320508075688773\n",
            "0.7320508075688773\n",
            "0.7320508075688773\n",
            "0.7320508075688773\n",
            "0.7320508075688774\n",
            "0.7320508075688773\n",
            "0.7320508075688773\n",
            "0.7320508075688772\n",
            "0.7320508075688773\n",
            "0.7320508075688773\n",
            "0.7320508075688772\n",
            "0.7320508075688772\n",
            "0.7320508075688773\n",
            "0.7320508075688772\n",
            "0.7320508075688773\n",
            "0.7320508075688772\n",
            "0.7320508075688773\n",
            "0.7320508075688772\n",
            "0.7320508075688773\n",
            "0.7320508075688773\n",
            "0.7320508075688773\n",
            "0.7320508075688773\n",
            "0.7320508075688773\n",
            "0.7320508075688773\n",
            "0.7320508075688773\n",
            "0.7320508075688773\n",
            "0.7320508075688772\n",
            "0.7320508075688773\n",
            "0.7320508075688773\n",
            "0.7320508075688773\n",
            "0.7320508075688773\n",
            "0.7320508075688772\n",
            "0.7320508075688774\n",
            "0.7320508075688772\n",
            "0.7320508075688773\n",
            "0.7320508075688773\n",
            "0.7320508075688773\n",
            "0.7320508075688773\n",
            "0.7320508075688772\n",
            "0.7320508075688773\n",
            "0.7320508075688773\n",
            "0.7320508075688773\n",
            "0.7320508075688773\n",
            "0.7320508075688773\n",
            "0.7320508075688772\n",
            "0.7320508075688774\n",
            "0.7320508075688773\n",
            "0.7320508075688772\n",
            "0.7320508075688773\n",
            "0.7320508075688773\n",
            "0.7320508075688773\n",
            "0.7320508075688772\n",
            "0.7320508075688773\n",
            "0.7320508075688773\n",
            "0.7320508075688772\n",
            "0.7320508075688774\n",
            "0.7320508075688773\n",
            "0.7320508075688773\n",
            "0.7320508075688773\n",
            "0.7320508075688773\n",
            "0.7320508075688773\n",
            "0.7320508075688773\n",
            "0.7320508075688772\n",
            "0.7320508075688773\n",
            "0.7320508075688773\n",
            "0.7320508075688773\n",
            "0.7320508075688773\n",
            "0.7320508075688773\n",
            "0.7320508075688772\n"
          ],
          "name": "stdout"
        }
      ]
    },
    {
      "cell_type": "markdown",
      "metadata": {
        "id": "LdfhWIk9Nckj"
      },
      "source": [
        "There is a noticable limit at 73.2%. This means there is a 73.2% chance of randomly selecting a spanning tree from an n-tier ladder graph that uses the bottom rung."
      ]
    },
    {
      "cell_type": "markdown",
      "metadata": {
        "id": "SVuxya3eHGYI"
      },
      "source": [
        "$ lim_{5 \\rightarrow  \\inf}  1 - \\frac{\\frac{(2+\\sqrt{3})^{n-1} - (2-\\sqrt{3})^{n-1}}{2\\sqrt{3}}}{\\frac{(2+\\sqrt{3})^{n} - (2-\\sqrt{3})^{n}}{2\\sqrt{3}}}$"
      ]
    },
    {
      "cell_type": "markdown",
      "metadata": {
        "id": "5I1vmRcJrWuL"
      },
      "source": [
        "### Recurrence Relations"
      ]
    },
    {
      "cell_type": "markdown",
      "metadata": {
        "id": "6DLWZ6IbrZxo"
      },
      "source": [
        "Let $f(n) =$ NSTIBR$(n)$:\n",
        "\n",
        "$f(n) = 4f(n-1) - f(n-2)$ for $n > 1$;\n",
        "\n",
        "$f(0) = 1$,\n",
        "\n",
        "$f(1) = 1$.\n",
        "\n",
        "Let $g(n) =$ NST$(n)$:\n",
        "\n",
        "$g(n) = 4g(n-1) - g(n-2)$ for $n > 1$;\n",
        "\n",
        "$g(0) = 0$,\n",
        "\n",
        "$g(1) = 1$."
      ]
    },
    {
      "cell_type": "markdown",
      "metadata": {
        "id": "Pnza6EawsXDG"
      },
      "source": [
        "#### TODO Check Recurrences"
      ]
    },
    {
      "cell_type": "code",
      "metadata": {
        "id": "A0dYpeS4MmIS"
      },
      "source": [
        "def g(n):\r\n",
        "  if n < 0:\r\n",
        "    return \"N/A\"\r\n",
        "  if n == 0:\r\n",
        "    return 0\r\n",
        "  elif n == 1:\r\n",
        "    return 1\r\n",
        "  return 4 * g(n - 1) - g(n-2)\r\n",
        "\r\n",
        "def f(n):\r\n",
        "  if n < 0:\r\n",
        "    return \"N/A\"\r\n",
        "  if n == 0 or n == 1:\r\n",
        "    return 1\r\n",
        "  return 4 * f(n-1) - f(n-2)"
      ],
      "execution_count": 18,
      "outputs": []
    },
    {
      "cell_type": "code",
      "metadata": {
        "id": "VtL4Drq6O2bm",
        "outputId": "a5909ef7-d767-4fa8-fca7-7a47d8e95864",
        "colab": {
          "base_uri": "https://localhost:8080/"
        }
      },
      "source": [
        "for n in range(0, 6):\r\n",
        "  print(f(n))"
      ],
      "execution_count": 19,
      "outputs": [
        {
          "output_type": "stream",
          "text": [
            "1\n",
            "1\n",
            "3\n",
            "11\n",
            "41\n",
            "153\n"
          ],
          "name": "stdout"
        }
      ]
    },
    {
      "cell_type": "code",
      "metadata": {
        "id": "Pd3uQUYnPOFP",
        "outputId": "ae6213c4-2457-4ec1-9e29-1715161e5cff",
        "colab": {
          "base_uri": "https://localhost:8080/"
        }
      },
      "source": [
        "for n in range(0, 6):\r\n",
        "  print(f(n - 1))"
      ],
      "execution_count": 20,
      "outputs": [
        {
          "output_type": "stream",
          "text": [
            "N/A\n",
            "1\n",
            "1\n",
            "3\n",
            "11\n",
            "41\n"
          ],
          "name": "stdout"
        }
      ]
    },
    {
      "cell_type": "code",
      "metadata": {
        "id": "OZQ2KIlwP9Xy",
        "outputId": "e65a5c10-f845-474d-ebbd-3a434fceb31c",
        "colab": {
          "base_uri": "https://localhost:8080/"
        }
      },
      "source": [
        "for n in range(0, 6):\r\n",
        "  print(4 * f(n - 1))"
      ],
      "execution_count": 21,
      "outputs": [
        {
          "output_type": "stream",
          "text": [
            "N/AN/AN/AN/A\n",
            "4\n",
            "4\n",
            "12\n",
            "44\n",
            "164\n"
          ],
          "name": "stdout"
        }
      ]
    },
    {
      "cell_type": "code",
      "metadata": {
        "id": "QrXoZJ8eQMTU",
        "outputId": "1946fba3-6dd7-48db-fa86-8734c1f60aff",
        "colab": {
          "base_uri": "https://localhost:8080/"
        }
      },
      "source": [
        "for n in range(0, 6):\r\n",
        "  print(f(n - 2))"
      ],
      "execution_count": 22,
      "outputs": [
        {
          "output_type": "stream",
          "text": [
            "N/A\n",
            "N/A\n",
            "1\n",
            "1\n",
            "3\n",
            "11\n"
          ],
          "name": "stdout"
        }
      ]
    },
    {
      "cell_type": "code",
      "metadata": {
        "id": "M4RWmk_LQWc8",
        "outputId": "ecdf623f-421b-4dc0-e8bb-ffea20c126f0",
        "colab": {
          "base_uri": "https://localhost:8080/"
        }
      },
      "source": [
        "for n in range(0, 6):\r\n",
        "  print(g(n))"
      ],
      "execution_count": 23,
      "outputs": [
        {
          "output_type": "stream",
          "text": [
            "0\n",
            "1\n",
            "4\n",
            "15\n",
            "56\n",
            "209\n"
          ],
          "name": "stdout"
        }
      ]
    },
    {
      "cell_type": "code",
      "metadata": {
        "id": "FrrgLPd3QbaM"
      },
      "source": [
        "for n in range(0, 6):\r\n",
        "  print(g(n))"
      ],
      "execution_count": null,
      "outputs": []
    },
    {
      "cell_type": "code",
      "metadata": {
        "id": "Eix8F9yIQrwD",
        "outputId": "f154dda6-fd1c-4e83-cc6d-8846c5ae9445",
        "colab": {
          "base_uri": "https://localhost:8080/"
        }
      },
      "source": [
        "for n in range(0, 6):\r\n",
        "  print(4 * g(n-1))"
      ],
      "execution_count": 24,
      "outputs": [
        {
          "output_type": "stream",
          "text": [
            "N/AN/AN/AN/A\n",
            "0\n",
            "4\n",
            "16\n",
            "60\n",
            "224\n"
          ],
          "name": "stdout"
        }
      ]
    },
    {
      "cell_type": "code",
      "metadata": {
        "id": "pdgcg3QgQ4rY",
        "outputId": "a3b4746d-cc9a-4521-b638-00bace7352d9",
        "colab": {
          "base_uri": "https://localhost:8080/"
        }
      },
      "source": [
        "for n in range(0, 6):\r\n",
        "  print(f(n-2))"
      ],
      "execution_count": 25,
      "outputs": [
        {
          "output_type": "stream",
          "text": [
            "N/A\n",
            "N/A\n",
            "1\n",
            "1\n",
            "3\n",
            "11\n"
          ],
          "name": "stdout"
        }
      ]
    },
    {
      "cell_type": "markdown",
      "metadata": {
        "id": "qZYRsZH7tDn6"
      },
      "source": [
        "Check the calculations in this table (maybe write recursive functions) to verify they are accurate.\n",
        "\n",
        "Do they match what you found yesterday in your DPC?"
      ]
    },
    {
      "cell_type": "markdown",
      "metadata": {
        "id": "YBgTCBGysYf5"
      },
      "source": [
        "| n | f(n) | f(n-1) | 4f(n-1)  | f(n - 2) | diff |\n",
        "|---|-----:|-------:|---------:|---------:|-----:|\n",
        "| 0 |    1 |    N/A |      N/A |      N/A |  N/A |\n",
        "| 1 |    1 |      1 |        4 |      N/A |  N/A |\n",
        "| 2 |    3 |      1 |        4 |        1 |    3 |\n",
        "| 3 |   11 |      3 |       12 |        1 |   11 |\n",
        "| 4 |   41 |     11 |       44 |        3 |   41 |\n",
        "| 5 |  153 |     41 |      164 |       11 |  153 |"
      ]
    },
    {
      "cell_type": "markdown",
      "metadata": {
        "id": "4fqIc8DMsiHo"
      },
      "source": [
        "| n | g(n) | g(n-1) | 4g(n-1)  | g(n - 2) | diff |\n",
        "|---|-----:|-------:|---------:|---------:|-----:|\n",
        "| 0 |    0 |    N/A |      N/A |      N/A |  N/A |\n",
        "| 1 |    1 |      0 |        0 |      N/A |  N/A |\n",
        "| 2 |    4 |      1 |        4 |        0 |    4 |\n",
        "| 3 |   15 |      4 |       16 |        1 |   15 |\n",
        "| 4 |   56 |     15 |       60 |        4 |   56 |\n",
        "| 5 |  209 |     56 |      224 |       15 |  209 |"
      ]
    },
    {
      "cell_type": "markdown",
      "metadata": {
        "id": "n1o1Dnn5slb9"
      },
      "source": [
        "### TODO Find closed-form formulas"
      ]
    },
    {
      "cell_type": "markdown",
      "metadata": {
        "id": "K1JrJf4pst3x"
      },
      "source": [
        "Can you find closed-form formulas for $f(n)$ and $g(n)$?\n",
        "\n",
        "A closed-form formula expressing these functions in terms of operations on $n$, **without** referring to previous calculated values of the functions."
      ]
    },
    {
      "cell_type": "markdown",
      "metadata": {
        "id": "9v4SQz4GLbGO"
      },
      "source": [
        "$$g(n) = \\frac{(2+\\sqrt{3})^{n} - (2-\\sqrt{3})^{n}}{2\\sqrt{3}}$$\r\n",
        "$$f(n) = g(n) - g(n-1) $$"
      ]
    },
    {
      "cell_type": "markdown",
      "metadata": {
        "id": "pBhSqKKI2b6u"
      },
      "source": [
        "#### Hint:"
      ]
    },
    {
      "cell_type": "markdown",
      "metadata": {
        "id": "7ovCUy-52dUh"
      },
      "source": [
        "http://www.ist.tugraz.at/aichholzer/teaching/eca/spanning_trees_in_ladders.pdf"
      ]
    },
    {
      "cell_type": "markdown",
      "metadata": {
        "id": "ZyzBmWV_teue"
      },
      "source": [
        "#### Possibly Illuminating Calculations"
      ]
    },
    {
      "cell_type": "markdown",
      "metadata": {
        "id": "GnSc0aQ-qaNI"
      },
      "source": [
        "Remember continued fractions?"
      ]
    },
    {
      "cell_type": "code",
      "metadata": {
        "id": "8X1u-ZeFqQsn"
      },
      "source": [
        "from fractions import Fraction as frac\n",
        "\n",
        "def contfrac2frac(seq):\n",
        "    \"\"\"Convert the simple continued fraction in `seq`\n",
        "       into a fraction with numerator num and denominator den.\n",
        "    \"\"\"\n",
        "    num, den = 1, 0\n",
        "    for u in reversed(seq):\n",
        "        num, den = den + num * u, num\n",
        "    return frac(num, den)\n",
        "\n",
        "def frac2contfrac(f):\n",
        "    \"\"\"Build the simple continued fraction expansion of fraction f.\n",
        "    \"\"\"\n",
        "    seq = []\n",
        "    frac2contfrac_rec(f, seq)\n",
        "    return seq\n",
        "\n",
        "def frac2contfrac_rec(f, seq):\n",
        "    n = f.numerator\n",
        "    d = f.denominator\n",
        "    if d != 0:\n",
        "        seq.append(n // d)\n",
        "        if n % d != 0:\n",
        "            frac2contfrac_rec(frac(d, n % d), seq)\n",
        "\n",
        "def eval_frac(f):\n",
        "    \"\"\"Evaluate the fraction f as a float.\n",
        "    \"\"\"\n",
        "    return f.numerator / f.denominator"
      ],
      "execution_count": null,
      "outputs": []
    },
    {
      "cell_type": "code",
      "metadata": {
        "id": "YYH6Mf1ztnfu"
      },
      "source": [
        "from math import sqrt\n",
        "\n",
        "value = sqrt(3) - 1\n",
        "value_as_cf = frac2contfrac(frac.from_float(value))[:21]\n",
        "cf_to_value = contfrac2frac(value_as_cf)\n",
        "print(value, value_as_cf, cf_to_value)\n",
        "print(eval_frac(cf_to_value))"
      ],
      "execution_count": null,
      "outputs": []
    },
    {
      "cell_type": "code",
      "metadata": {
        "id": "yviS2YG_t2rx"
      },
      "source": [
        "from pprint import pprint\n",
        "\n",
        "pprint(list(map(lambda n: contfrac2frac(value_as_cf[:n]), range(20, 5, -1))))"
      ],
      "execution_count": null,
      "outputs": []
    }
  ]
}