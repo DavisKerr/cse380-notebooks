{
  "nbformat": 4,
  "nbformat_minor": 0,
  "metadata": {
    "colab": {
      "name": "09_2_Ponder_and_Prove_Data_Compression.ipynb",
      "provenance": [],
      "collapsed_sections": [],
      "include_colab_link": true
    },
    "kernelspec": {
      "name": "python3",
      "display_name": "Python 3"
    }
  },
  "cells": [
    {
      "cell_type": "markdown",
      "metadata": {
        "id": "view-in-github",
        "colab_type": "text"
      },
      "source": [
        "<a href=\"https://colab.research.google.com/github/DavisKerr/cse380-notebooks/blob/master/09_2_Ponder_and_Prove_Data_Compression.ipynb\" target=\"_parent\"><img src=\"https://colab.research.google.com/assets/colab-badge.svg\" alt=\"Open In Colab\"/></a>"
      ]
    },
    {
      "cell_type": "markdown",
      "metadata": {
        "id": "1rG4k7VvQ2WT"
      },
      "source": [
        "# Ponder and Prove Data Compression\n",
        "#### Due: Saturday, 6 March 2021, 11:59 pm."
      ]
    },
    {
      "cell_type": "code",
      "metadata": {
        "id": "e7TQw9RxYLAi",
        "colab": {
          "base_uri": "https://localhost:8080/"
        },
        "outputId": "5e4f01e4-41ad-4be2-acb4-3d1c5f320ef6"
      },
      "source": [
        "!pip install pyprimesieve"
      ],
      "execution_count": 1,
      "outputs": [
        {
          "output_type": "stream",
          "text": [
            "Requirement already satisfied: pyprimesieve in /usr/local/lib/python3.7/dist-packages (0.1.6)\n"
          ],
          "name": "stdout"
        }
      ]
    },
    {
      "cell_type": "markdown",
      "metadata": {
        "id": "W0WxE3IAQ2WU"
      },
      "source": [
        "# TODO Explore Huffman Trees and Huffman Codes\n"
      ]
    },
    {
      "cell_type": "markdown",
      "metadata": {
        "id": "w2vby9erSjOv"
      },
      "source": [
        "Your task is examine how to compress a *special piece of information* as compactly as possible, and **calculate various compression ratios**.\n",
        "\n",
        "Recall that the **compression ratio** of a variable-length encoding like Huffman encoding is the percentage $100(f - v)/f$, where $f$ is the number of bits per symbol of the smallest **fixed**-length encoding, and $v$ is the average number of bits per symbol with the variable-length encoding.\n",
        "\n",
        "For example, if there were 9 different symbols in a message, $f=4$ is the number of bits of the smallest fixed-length encoding, because $2^3 = 8$ (not enough for $9$) and $2^4 = 16$ (enough and to spare). If the variable-length encoding of the message had $v=3.12$, the compression ratio would be $100(4 - 3.12)/4 \\approx 22\\%$.\n",
        "\n",
        "Note that calculating the average number of bits per symbol is not strictly necessary. That's because an alternate and equivalent way is to calculate $100(ft - vt)/ft$, where $ft$ is the **total** number of bits encoded with the fixed encoding, and $vt$ is the **total** number of bits encoded with the variable-length encoding.\n",
        "\n",
        "The *special piece of information* to be compressed is a list of the first ten million primes. This is a list that starts\n",
        "\n",
        "|    |\n",
        "|----|\n",
        "|  2 |\n",
        "|  3 |\n",
        "|  5 |\n",
        "|  7 |\n",
        "| 11 |\n",
        "| 13 |\n",
        "| 17 |\n",
        "| 19 |\n",
        "| 23 |\n",
        "| 29 |\n",
        "\n",
        "  and ends\n",
        "\n",
        "|           |\n",
        "|-----------|\n",
        "| 179424551 |\n",
        "| 179424571 |\n",
        "| 179424577 |\n",
        "| 179424601 |\n",
        "| 179424611 |\n",
        "| 179424617 |\n",
        "| 179424629 |\n",
        "| 179424667 |\n",
        "| 179424671 |\n",
        "| 179424673 |\n",
        "\n",
        "As ASCII text stored in a file with one prime per line, the size of this data file is slightly over 89 megabytes. The goal is to compress this down to just over 5 megabytes (5589056 bytes, to be exact). That's a 94% compression ratio!\n",
        "\n",
        "Standard compression tools can only get about a 73% compression ratio for this ASCII data. A more clever approach is needed. Instead of compressing the list of prime numbers, compress a list of the *gaps* between them!\n",
        "\n",
        "It doesn't save much, just the unique (occurring only once) gap size of 1 between 2 and 3, but in the spirit of de Polignac's conjecture that every *even* number appears infinitely often as a gap between consecutive primes, just consider the even-sized gaps. The result will be a list that starts with 2 (the difference between 5 and 3), 2 (the difference between 7 and 5), 4 (the difference between 11 and 7), 2 (the difference between 13 and 11), 4 (the difference between 17 and 13), 2 (the difference between 19 and 17), 4 (the difference between 23 and 19), and 6 (the difference between 29 and 23).\n",
        "\n",
        "Generating this data is the first task. The algorithm for doing so is very straightforward:\n",
        "\n",
        "1. Find the gaps between consecutive odd primes.\n",
        "2. Store these gaps as a list of even numbers.\n",
        "\n",
        "Tabulating the results, the first ten gaps and the last ten gaps are as follows, where the numbers after the equals signs are the gaps to list:\n",
        "\n",
        "|                 |\n",
        "|-----------------|\n",
        "|  5  -   3  =  2 |\n",
        "|  7  -   5  =  2 |\n",
        "| 11  -   7  =  4 |\n",
        "| 13  -  11  =  2 |\n",
        "| 17  -  13  =  4 |\n",
        "| 19  -  17  =  2 |\n",
        "| 23  -  19  =  4 |\n",
        "| 29  -  23  =  6 |\n",
        "| 31  -  29  =  2 |\n",
        "| 37  -  31  =  6 |\n",
        "\n",
        "|                                |\n",
        "|--------------------------------|\n",
        "| 179424551  -  179424533  =  18 |\n",
        "| 179424571  -  179424551  =  20 |\n",
        "| 179424577  -  179424571  =   6 |\n",
        "| 179424601  -  179424577  =  24 |\n",
        "| 179424611  -  179424601  =  10 |\n",
        "| 179424617  -  179424611  =   6 |\n",
        "| 179424629  -  179424617  =  12 |\n",
        "| 179424667  -  179424629  =  38 |\n",
        "| 179424671  -  179424667  =   4 |\n",
        "| 179424673  -  179424671  =   2 |\n",
        "\n",
        "As a correctness check, see if your generated list of gaps has length 9999998.\n",
        "\n",
        "The next step is to count how many times each gap size occurs, so that for the Huffman encoding scheme, the larger the frequency of occurrence, the smaller the number of bits encoding that gap size.\n",
        "\n",
        "As a correctness check, here are the first ten and the last ten gap counts:\n",
        "\n",
        "|  Gap | Count   |\n",
        "|------|---------|\n",
        "|    2 |  738597 |\n",
        "|    4 |  738717 |\n",
        "|    6 | 1297540 |\n",
        "|    8 |  566151 |\n",
        "|   10 |  729808 |\n",
        "|   12 |  920661 |\n",
        "|   14 |  503524 |\n",
        "|   16 |  371677 |\n",
        "|   18 |  667734 |\n",
        "|   20 |  354267 |\n",
        "|      |         |\n",
        "|  190 |       1 |\n",
        "|  192 |       3 |\n",
        "|  194 |       1 |\n",
        "|  196 |       1 |\n",
        "|  198 |       6 |\n",
        "|  202 |       2 |\n",
        "|  204 |       3 |\n",
        "|  210 |       4 |\n",
        "|  220 |       1 |\n",
        "|  222 |       1 |\n",
        "\n",
        "Note two things from these partial gap counts:\n",
        "\n",
        "1. Small even numbers (< 100) are well represented, larger ones (< 1000) less so.\n",
        "2. Ten million primes aren't enough to have *every* even number represented; for example, 200, 206, 208, 212, 214, 216, and 218 do not appear even once.\n"
      ]
    },
    {
      "cell_type": "code",
      "metadata": {
        "id": "a4AyR9s1aSlg",
        "colab": {
          "base_uri": "https://localhost:8080/"
        },
        "outputId": "b37e130f-cbe8-4349-cca4-fa2aa4b427af"
      },
      "source": [
        "from pyprimesieve import primes, primes_nth\r\n",
        "def prime_gaps(range):\r\n",
        "  list_of_gaps = []\r\n",
        "  prev = 3\r\n",
        "  gap = 0\r\n",
        "  for prime in list(primes(4, primes_nth(range + 1))):\r\n",
        "    gap = prime - prev\r\n",
        "    #print(gap)\r\n",
        "    prev = prime\r\n",
        "    list_of_gaps.append(gap)\r\n",
        "  return list_of_gaps\r\n",
        "\r\n",
        "gaps = prime_gaps(10000000)\r\n",
        "print(len(gaps))\r\n",
        "print(gaps[0:10])\r\n",
        "print(gaps[-10:])"
      ],
      "execution_count": 2,
      "outputs": [
        {
          "output_type": "stream",
          "text": [
            "9999998\n",
            "[2, 2, 4, 2, 4, 2, 4, 6, 2, 6]\n",
            "[18, 20, 6, 24, 10, 6, 12, 38, 4, 2]\n"
          ],
          "name": "stdout"
        }
      ]
    },
    {
      "cell_type": "code",
      "metadata": {
        "id": "ljlTVkioa_BF",
        "colab": {
          "base_uri": "https://localhost:8080/"
        },
        "outputId": "b8bd912c-e78e-4a0a-9a7d-3fbcf3c86f2e"
      },
      "source": [
        "gaps_uniq = set(gaps)\r\n",
        "gap_count = list(map(lambda x: (x, gaps.count(x)), gaps_uniq))\r\n",
        "print(gap_count)\r\n",
        "print()"
      ],
      "execution_count": 3,
      "outputs": [
        {
          "output_type": "stream",
          "text": [
            "[(2, 738597), (4, 738717), (6, 1297540), (8, 566151), (10, 729808), (12, 920661), (14, 503524), (16, 371677), (18, 667734), (20, 354267), (22, 307230), (24, 453215), (26, 211203), (28, 229177), (30, 398713), (32, 123123), (34, 129043), (36, 206722), (38, 94682), (40, 111546), (42, 159956), (44, 64866), (46, 54931), (48, 93693), (50, 52183), (52, 38800), (54, 64157), (56, 32224), (58, 27985), (60, 55305), (62, 16763), (64, 17374), (66, 30960), (68, 12368), (70, 17475), (72, 17255), (74, 8540), (76, 7253), (78, 13758), (80, 6760), (82, 4791), (84, 9818), (86, 3411), (88, 3454), (90, 7056), (92, 2259), (94, 2058), (96, 3544), (98, 1831), (100, 1923), (102, 2374), (104, 1168), (106, 933), (108, 1634), (110, 941), (112, 711), (114, 1125), (116, 439), (118, 433), (120, 948), (122, 287), (124, 318), (126, 533), (128, 183), (130, 211), (132, 301), (134, 128), (136, 100), (138, 210), (140, 140), (142, 90), (144, 123), (146, 46), (148, 67), (150, 94), (152, 52), (154, 43), (156, 57), (158, 19), (160, 27), (162, 27), (164, 20), (166, 9), (168, 25), (170, 18), (172, 4), (174, 10), (176, 11), (178, 12), (180, 10), (182, 5), (184, 4), (186, 3), (188, 1), (190, 1), (192, 3), (194, 1), (196, 1), (198, 6), (202, 2), (204, 3), (210, 4), (220, 1), (222, 1)]\n",
            "\n"
          ],
          "name": "stdout"
        }
      ]
    },
    {
      "cell_type": "markdown",
      "metadata": {
        "id": "7CUIw8_k03JJ"
      },
      "source": [
        "# TODO Determine Exact Size of Data to be Compressed\n"
      ]
    },
    {
      "cell_type": "markdown",
      "metadata": {
        "id": "wB4sXf0X09Gv"
      },
      "source": [
        "Without actually doing it, imagine creating an ASCII file containing the first ten million primes, represented in decimal, one prime per line. Calculate the size of this file, so you can show an exceptional compression ratio from it (see below).\n",
        "\n",
        "Using a binary encoding instead of ASCII, each prime requires 32 bits (4 bytes), so the size of a binary file is easily determined.\n",
        "\n",
        "Using a fixed-width encoding of the gap counts, however, requires knowing how many different gap sizes there are, after which the calculation is straightforward."
      ]
    },
    {
      "cell_type": "code",
      "metadata": {
        "id": "RwWaqtFkX8P3",
        "colab": {
          "base_uri": "https://localhost:8080/"
        },
        "outputId": "43611100-b628-4b49-e655-b38b96a7dc31"
      },
      "source": [
        "print(f'There are {len(set(prime_gaps(10000000)))} prime gaps total') \r\n",
        "# That means 7 bits are needed for a fixed length encoding."
      ],
      "execution_count": 4,
      "outputs": [
        {
          "output_type": "stream",
          "text": [
            "There are 104 prime gaps total\n"
          ],
          "name": "stdout"
        }
      ]
    },
    {
      "cell_type": "code",
      "metadata": {
        "colab": {
          "base_uri": "https://localhost:8080/"
        },
        "id": "wMnr9IQJc6pO",
        "outputId": "21a03aba-6e01-48b8-8b57-68d32991aed7"
      },
      "source": [
        "prime_list = list(primes(4, primes_nth(10000000 + 1)))\r\n",
        "bits = 0\r\n",
        "for prime in prime_list:\r\n",
        "  bits += (len(str(prime)) * 8)\r\n",
        "\r\n",
        "new_line_bits = 9999999 * 8\r\n",
        "total_bytes = (new_line_bits + bits) / 8\r\n",
        "print(f'Total Bytes: {total_bytes}')\r\n",
        "total_megabytes = total_bytes / 2 ** 20\r\n",
        "print(f'Total megabytes: {total_megabytes}')"
      ],
      "execution_count": 5,
      "outputs": [
        {
          "output_type": "stream",
          "text": [
            "Total Bytes: 93484447.0\n",
            "Total megabytes: 89.15371608734131\n"
          ],
          "name": "stdout"
        }
      ]
    },
    {
      "cell_type": "code",
      "metadata": {
        "colab": {
          "base_uri": "https://localhost:8080/"
        },
        "id": "rKqsXyZI1jyY",
        "outputId": "5c243cf3-0bad-4415-cc8c-c870565989f1"
      },
      "source": [
        "7 * 9999998"
      ],
      "execution_count": 6,
      "outputs": [
        {
          "output_type": "execute_result",
          "data": {
            "text/plain": [
              "69999986"
            ]
          },
          "metadata": {
            "tags": []
          },
          "execution_count": 6
        }
      ]
    },
    {
      "cell_type": "markdown",
      "metadata": {
        "id": "5WirGi0pY7v3"
      },
      "source": [
        "$ceil(log_{2}(104)) = 7$, which means there are 7 bits required per gap in the list of 9,999,998 prime gaps. This means it takes 69,999,986 bits for the file size. That is 8,749,999 bytes."
      ]
    },
    {
      "cell_type": "markdown",
      "metadata": {
        "id": "whxcW8WnW91x"
      },
      "source": [
        "| Type of encoding | Size in Bytes | \r\n",
        "| -----------------|---------------|\r\n",
        "| ASCII               | 93,484,447 |\r\n",
        "| Fixed-length primes | 40,000,000 |\r\n",
        "| Fixed-length prime gaps   | 8,749,999 |"
      ]
    },
    {
      "cell_type": "markdown",
      "metadata": {
        "id": "9HZChUyC09tJ"
      },
      "source": [
        "# TODO Use Functional Python\n"
      ]
    },
    {
      "cell_type": "markdown",
      "metadata": {
        "id": "j7vG1XqY1CaV"
      },
      "source": [
        "You are encouraged to use the [anytree](https://pypi.org/project/anytree) Python library, which has a nice exporter by way of which you can graphically view trees. (You may recall using this in DM1, and thus know that **anytree** depends on [graphviz](https://graphviz.org), which you also used.)\n",
        "\n",
        "This library uses the object-oriented features of Python to create and visualize trees. You are encouraged to use the functional features of Python as much as possible, achieving your results not by using some existing third-party libraries for building Huffman Trees and Codes, but writing your own code as cleanly and elegantly as you can."
      ]
    },
    {
      "cell_type": "code",
      "metadata": {
        "id": "9gIgdCxXr1jz"
      },
      "source": [
        "def es_queue(l):\r\n",
        "  l.sort(key=lambda x: x[0])\r\n",
        "  if len(l) == 1:\r\n",
        "    return l[0]\r\n",
        "  else:\r\n",
        "    return es_queue([[l[0][0] + l[1][0], [l[0], l[1]]]] + l[2:])\r\n",
        "\r\n",
        "def get_tuples(l, path=''):\r\n",
        "  if type(l[1]) is list:\r\n",
        "    tuples_right = get_tuples(l[1][1], path+'1')\r\n",
        "    tuples_left = get_tuples(l[1][0], path+'0')\r\n",
        "    return tuples_left + tuples_right\r\n",
        "  else:\r\n",
        "    return [(l[1], path)]"
      ],
      "execution_count": 7,
      "outputs": []
    },
    {
      "cell_type": "code",
      "metadata": {
        "id": "n3M4IgK364TU"
      },
      "source": [
        "gap_count = [[gaps.count(x),x] for x in set(gaps)]\r\n",
        "tuples = get_tuples(es_queue(gap_count))\r\n",
        "tree_dict = {key:value for (key, value) in tuples}"
      ],
      "execution_count": 8,
      "outputs": []
    },
    {
      "cell_type": "code",
      "metadata": {
        "colab": {
          "base_uri": "https://localhost:8080/"
        },
        "id": "kmlVNYKO8WKh",
        "outputId": "890fc5ad-7986-4d35-b7bc-fcf9230bf438"
      },
      "source": [
        "print(tree_dict)"
      ],
      "execution_count": 9,
      "outputs": [
        {
          "output_type": "stream",
          "text": [
            "{12: '000', 24: '0010', 40: '001100', 78: '001101000', 86: '00110100100', 88: '00110100101', 90: '0011010011', 58: '00110101', 66: '00110110', 96: '00110111000', 116: '00110111001000', 130: '001101110010010', 152: '00110111001001100', 162: '001101110010011010', 198: '00110111001001101100', 204: '001101110010011011010', 188: '00110111001001101101100', 190: '00110111001001101101101', 202: '0011011100100110110111', 184: '001101110010011011100', 210: '001101110010011011101', 220: '00110111001001101111000', 222: '00110111001001101111001', 194: '00110111001001101111010', 196: '00110111001001101111011', 172: '001101110010011011111', 144: '0011011100100111', 106: '0011011100101', 98: '001101110011', 76: '0011011101', 110: '0011011110000', 120: '0011011110001', 100: '001101111001', 94: '001101111010', 126: '00110111101100', 156: '00110111101101000', 148: '00110111101101001', 134: '0011011110110101', 122: '001101111011011', 114: '0011011110111', 74: '0011011111', 32: '001110', 54: '0011110', 44: '0011111', 14: '0100', 8: '0101', 34: '011000', 56: '01100100', 62: '011001010', 72: '011001011', 64: '011001100', 70: '011001101', 52: '01100111', 22: '01101', 18: '0111', 6: '100', 42: '101000', 48: '1010010', 38: '1010011', 20: '10101', 10: '1011', 2: '1100', 4: '1101', 16: '11100', 30: '11101', 92: '111100000000', 102: '111100000001', 82: '11110000001', 84: '1111000001', 68: '1111000010', 104: '1111000011000', 132: '111100001100100', 140: '1111000011001010', 170: '1111000011001011000', 166: '11110000110010110010', 174: '11110000110010110011', 158: '1111000011001011010', 164: '1111000011001011011', 154: '111100001100101110', 180: '11110000110010111100', 182: '111100001100101111010', 186: '1111000011001011110110', 192: '1111000011001011110111', 176: '11110000110010111110', 178: '11110000110010111111', 124: '111100001100110', 128: '1111000011001110', 142: '11110000110011110', 150: '11110000110011111', 112: '11110000110100', 146: '111100001101010000', 168: '1111000011010100010', 160: '1111000011010100011', 136: '11110000110101001', 138: '1111000011010101', 118: '111100001101011', 108: '1111000011011', 80: '11110000111', 50: '11110001', 46: '11110010', 60: '11110011', 36: '111101', 26: '111110', 28: '111111'}\n"
          ],
          "name": "stdout"
        }
      ]
    },
    {
      "cell_type": "markdown",
      "metadata": {
        "id": "H8KKP_9e9_WE"
      },
      "source": [
        "100(ft−vt)/ft , where ft is the total number of bits encoded with the fixed encoding, and vt is the total number of bits encoded with the variable-length encoding."
      ]
    },
    {
      "cell_type": "code",
      "metadata": {
        "colab": {
          "base_uri": "https://localhost:8080/"
        },
        "id": "XKDlXHCY9Vnl",
        "outputId": "db0e5274-41a4-4ce5-80d3-69dd27643fbb"
      },
      "source": [
        "encoded = ''.join([tree_dict[x] for x in gaps])\r\n",
        "print(len(encoded))"
      ],
      "execution_count": 10,
      "outputs": [
        {
          "output_type": "stream",
          "text": [
            "44712373\n"
          ],
          "name": "stdout"
        }
      ]
    },
    {
      "cell_type": "markdown",
      "metadata": {
        "id": "Buq8C_Y4A1oH"
      },
      "source": [
        "5589047 Bytes"
      ]
    },
    {
      "cell_type": "code",
      "metadata": {
        "colab": {
          "base_uri": "https://localhost:8080/"
        },
        "id": "mQcfxBsaBdGi",
        "outputId": "f1910e7d-ea35-4784-c374-fbbca4417657"
      },
      "source": [
        "fixed_length_prime_gaps_bytes = 8749999\r\n",
        "fixed_length_prime_bytes = 40000000\r\n",
        "ascii_bytes = 93484447\r\n",
        "\r\n",
        "huffman_bytes = 5589047\r\n",
        "\r\n",
        "fixed_gaps_ratio = 100 * ((fixed_length_prime_gaps_bytes - huffman_bytes) / (fixed_length_prime_gaps_bytes))\r\n",
        "fixed_primes_ratio = 100 * ((fixed_length_prime_bytes - huffman_bytes) / (fixed_length_prime_bytes))\r\n",
        "ascii_ratio = 100 * ((ascii_bytes - huffman_bytes) / (ascii_bytes))\r\n",
        "print(f'From fixed = {fixed_gaps_ratio}') \r\n",
        "print(f'From binary = {fixed_primes_ratio}')\r\n",
        "print(f'From ASCII = {ascii_ratio}') "
      ],
      "execution_count": 11,
      "outputs": [
        {
          "output_type": "stream",
          "text": [
            "From fixed = 36.12516984287655\n",
            "From binary = 86.0273825\n",
            "From ASCII = 94.02141513443408\n"
          ],
          "name": "stdout"
        }
      ]
    },
    {
      "cell_type": "markdown",
      "metadata": {
        "id": "TUB4mD8u1DCa"
      },
      "source": [
        "# TODO Achieve Target Compression Ratios"
      ]
    },
    {
      "cell_type": "markdown",
      "metadata": {
        "id": "8Vw71EqJ18eE"
      },
      "source": [
        "Your solution should correctly compute the following three compression ratios:\n",
        "\n",
        "| Ratio       | Value              |\n",
        "|-------------|--------------------|\n",
        "| From fixed  | 36.125168653605158 |\n",
        "| From binary |              86.03 |\n",
        "| From ASCII  |              94.02 | \n"
      ]
    },
    {
      "cell_type": "markdown",
      "metadata": {
        "id": "81dbKwHenxnT"
      },
      "source": [
        "# TODO My Report on What I Did and What I Learned"
      ]
    },
    {
      "cell_type": "markdown",
      "metadata": {
        "id": "C8BeiIern33B"
      },
      "source": [
        "## Fun\n"
      ]
    },
    {
      "cell_type": "markdown",
      "metadata": {
        "id": "ElukRLoezyxd"
      },
      "source": [
        "Replace these words with your own detailing how you had fun (if you did)."
      ]
    },
    {
      "cell_type": "markdown",
      "metadata": {
        "id": "OzOkZ3son-u9"
      },
      "source": [
        "## New"
      ]
    },
    {
      "cell_type": "markdown",
      "metadata": {
        "id": "3-nYIdEUz4x5"
      },
      "source": [
        "Replace these words with your own detailing what was something new you learned (if anything)."
      ]
    },
    {
      "cell_type": "markdown",
      "metadata": {
        "id": "mJHvoj6GokaZ"
      },
      "source": [
        "## Meaningful\n"
      ]
    },
    {
      "cell_type": "markdown",
      "metadata": {
        "id": "XOxh3XFTz-6N"
      },
      "source": [
        "Replace these words with your own detailing what you achieved that was meaningful or that you can build upon."
      ]
    },
    {
      "cell_type": "markdown",
      "metadata": {
        "id": "_RBE03fhpNUG"
      },
      "source": [
        "## Other"
      ]
    },
    {
      "cell_type": "markdown",
      "metadata": {
        "id": "d-sXEeq60C3W"
      },
      "source": [
        "Replace this section and these words with your own describing other topics or sections of your report --- Connections, Collaborator Contributions, or anything else you feel impressed to add."
      ]
    },
    {
      "cell_type": "markdown",
      "metadata": {
        "id": "Nrk-8EmgW4NP"
      },
      "source": [
        "# TODO What is True?\n",
        "Click on each warranted checkbox to toggle it to True (or back to False). \n",
        "\n",
        "NOTE: *This only works in Colab. If you run it in some other Jupyter notebook client/server environment you may have to change False to True (or vice versa) manually.*\n",
        "\n",
        "This self-assessment is subject to revision by a grader."
      ]
    },
    {
      "cell_type": "code",
      "metadata": {
        "id": "qGAjzgVRXR4M"
      },
      "source": [
        "#@markdown ## What is True about what I did?\n",
        "#@markdown ### I had fun.\n",
        "cb00 = False #@param {type:'boolean'}\n",
        "#@markdown ### I learned something new.\n",
        "cb01 = False #@param {type:'boolean'}\n",
        "#@markdown ### I achieved something meaningful, or something I can build upon at a later time.\n",
        "cb02 = False #@param {type:'boolean'}\n",
        "#@markdown ## What is True about my report?\n",
        "#@markdown ### I wrote a sufficient number of well-written sentences.\n",
        "cb03 = False #@param {type:'boolean'}\n",
        "#@markdown ### My report is free of mechanical infelicities.\n",
        "cb04 = False #@param {type:'boolean'}\n",
        "#@markdown ### I used Grammarly (or something better described in my report) to check for MIs.\n",
        "cb05 = False #@param {type:'boolean'}\n",
        "#@markdown ### I reported on any connections I found between these problems and something I already know. \n",
        "cb06 = False #@param {type:'boolean'}\n",
        "#@markdown ### I reported who were and what contribution each of my collaborators made.\n",
        "cb07 = False #@param {type:'boolean'}\n",
        "#@markdown ## What is True about my calculations?\n",
        "#@markdown ### I correctly calculated the number of times each gap size occurs. \n",
        "cb08 = False #@param {type:'boolean'}\n",
        "#@markdown ### I correctly calculated the number of bits per gap size with a fixed encoding.\n",
        "cb09 = False #@param {type:'boolean'}\n",
        "#@markdown ### I correctly calculated the total number of bits encoded with the Huffman encoding.\n",
        "cb10 = False #@param {type:'boolean'}\n",
        "#@markdown ### I correctly calculated the total number of bits encoded with the fixed encoding.\n",
        "cb11 = False #@param {type:'boolean'}\n",
        "#@markdown ### I correctly calculated the compression ratio from this fixed encoding.\n",
        "cb12 = False #@param {type:'boolean'}\n",
        "#@markdown ### I correctly calculated the size of the first ten million primes encoded as 32-bit integer binary data.\n",
        "cb13 = False #@param {type:'boolean'}\n",
        "#@markdown ### I correctly calculated the compression ratio from the binary size.\n",
        "cb14 = False #@param {type:'boolean'}\n",
        "#@markdown ### I correctly calculated the size of the first ten million primes encoded as ASCII data.\n",
        "cb15 = False #@param {type:'boolean'}\n",
        "#@markdown ### I correctly calculated the compression ratio from the ASCII size (just the primes, nothing else).\n",
        "cb16 = False #@param {type:'boolean'}"
      ],
      "execution_count": 12,
      "outputs": []
    },
    {
      "cell_type": "markdown",
      "metadata": {
        "id": "q8KESLBANSkC"
      },
      "source": [
        "## DO NOT CHANGE ANYTHING IN THE NEXT CODE CELL!!\n",
        "### Delete this cell and the following ones before submitting your work."
      ]
    },
    {
      "cell_type": "code",
      "metadata": {
        "id": "rJ_vaL0DWwoc",
        "outputId": "d68b1588-787d-4a77-abae-66aacb09ae3b",
        "colab": {
          "base_uri": "https://localhost:8080/"
        }
      },
      "source": [
        "points_for_what_I_did = [5]*3\n",
        "points_for_my_report = [8]*5\n",
        "points_for_my_calculations = [5]*9\n",
        "points = points_for_what_I_did + points_for_my_report + points_for_my_calculations\n",
        "# cb is short for checkbox\n",
        "total = sum(map(lambda n, p: p if eval(f'cb{n:02}') else 0,\n",
        "                range(len(points)), points))             \n",
        "total"
      ],
      "execution_count": 13,
      "outputs": [
        {
          "output_type": "execute_result",
          "data": {
            "text/plain": [
              "0"
            ]
          },
          "metadata": {
            "tags": []
          },
          "execution_count": 13
        }
      ]
    },
    {
      "cell_type": "markdown",
      "metadata": {
        "id": "muxeYgQQKGEU"
      },
      "source": [
        "# For graders"
      ]
    },
    {
      "cell_type": "code",
      "metadata": {
        "id": "c0ldoieNKMTU"
      },
      "source": [
        "#@markdown ---\n",
        "number_of_MIs_found = 0 #@param {type: 'slider', min: 0, max: 5}\n",
        "#@markdown ---\n"
      ],
      "execution_count": 14,
      "outputs": []
    }
  ]
}