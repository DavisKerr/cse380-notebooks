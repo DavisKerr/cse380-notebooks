{
  "nbformat": 4,
  "nbformat_minor": 0,
  "metadata": {
    "colab": {
      "name": "09_3_About_Huffman_Tree_Growing.ipynb",
      "provenance": [],
      "include_colab_link": true
    },
    "kernelspec": {
      "name": "python3",
      "display_name": "Python 3"
    }
  },
  "cells": [
    {
      "cell_type": "markdown",
      "metadata": {
        "id": "view-in-github",
        "colab_type": "text"
      },
      "source": [
        "<a href=\"https://colab.research.google.com/github/DavisKerr/cse380-notebooks/blob/master/09_3_About_Huffman_Tree_Growing.ipynb\" target=\"_parent\"><img src=\"https://colab.research.google.com/assets/colab-badge.svg\" alt=\"Open In Colab\"/></a>"
      ]
    },
    {
      "cell_type": "markdown",
      "metadata": {
        "id": "BjNb99LGmm11"
      },
      "source": [
        "# About Huffman Tree Growing\n",
        "## Class Directed Learning\n",
        "### Due: Tuesday, 2 March 2021, 11:59 pm"
      ]
    },
    {
      "cell_type": "markdown",
      "metadata": {
        "id": "VED3Iwgbo4jJ"
      },
      "source": [
        "## Answer to DPC"
      ]
    },
    {
      "cell_type": "markdown",
      "metadata": {
        "id": "M4k33027o7Fl"
      },
      "source": [
        "This dictionary maps n:cr for the first n odd primes gap lists' cr (compression ratios):\n"
      ]
    },
    {
      "cell_type": "code",
      "metadata": {
        "id": "gagrJ3vrpCa6"
      },
      "source": [
        "ncr = {2: 0, 3: 0, 4: 0, 5: 0, 6: 0, 7: 25, 8: 28, 9: 25, 10: 23, 11: 25, 12: 23, 13: 21, 14: 20, 15: 22, 16: 21, 17: 19, 18: 21, 19: 20, 20: 19, 21: 18, 22: 0, 23: 0, 24: 2, 25: 2, 26: 4, 27: 4, 28: 32, 29: 33, 30: 32, 31: 32}\n",
        "for n in ncr.keys():\n",
        "  print(f\"For the first {n} odd primes' gap list, the compression ratio is {ncr[n]}%.\")"
      ],
      "execution_count": null,
      "outputs": []
    },
    {
      "cell_type": "markdown",
      "metadata": {
        "id": "A06Y_UzotDok"
      },
      "source": [
        "### Calculated how??"
      ]
    },
    {
      "cell_type": "code",
      "metadata": {
        "id": "4T4a5Pq1tF_S"
      },
      "source": [
        "!pip install anytree\n",
        "from anytree import Node, RenderTree, PreOrderIter, Walker\n",
        "from anytree.util import leftsibling, rightsibling\n",
        "from anytree.exporter.dotexporter import DotExporter\n",
        "from collections import Counter\n",
        "from queue import PriorityQueue\n",
        "from math import ceil, floor, log\n",
        "from sympy import primerange\n",
        "\n",
        "def realprimes_up_to(n):\n",
        "  return list(primerange(4, n))\n",
        "\n",
        "def get_list_of_gaps(pl):\n",
        "  gaps_list = list(map(lambda i: pl[i] - pl[i - 1], range(1, len(pl))))\n",
        "  gaps_list = [2] + gaps_list # [2] for the gap between 3 and 5\n",
        "  return gaps_list\n",
        "\n",
        "class GapNode(Node):\n",
        "  def __lt__(self, other):\n",
        "    return self.count < other.count\n",
        "\n",
        "node_counter = 0\n",
        "def next_node_name():\n",
        "  global node_counter\n",
        "  name = 'gn' + str(node_counter)\n",
        "  node_counter += 1\n",
        "  return name\n",
        "\n",
        "def new_node(gp, ct):\n",
        "  return GapNode(next_node_name(), gap = gp, count = ct)\n",
        "\n",
        "def new_internal_node(left, right):\n",
        "  return GapNode(next_node_name(), children = [left, right],\n",
        "                 gap = 0, count = left.count + right.count)\n",
        "\n",
        "def make_huffman_tree(gaps_list):\n",
        "  gap_dict = Counter(gaps_list)\n",
        "  q = PriorityQueue()\n",
        "  for key, val in gap_dict.items():\n",
        "    q.put(new_node(key, val))\n",
        "\n",
        "  while q.qsize() > 1:\n",
        "    left = q.get()\n",
        "    right = q.get()\n",
        "    q.put(new_internal_node(left, right))\n",
        "\n",
        "  return q.get()\n",
        "\n",
        "def get_codes(root):\n",
        "  leaves = [node for node in PreOrderIter(root, filter_=lambda n: not n.children)]\n",
        "  codes = {}\n",
        "  w = Walker()\n",
        "  for leaf in leaves:\n",
        "    path = w.walk(leaf, root)[0]\n",
        "    code = ''\n",
        "    for node in path:\n",
        "      code = ('1' if leftsibling(node) else '0') + code\n",
        "    codes[leaf.gap] = tuple([code, leaf.count])\n",
        "  return codes\n",
        "\n",
        "def compression_ratio(f, v):\n",
        "  return 100 * (f - v) / f\n",
        "\n",
        "def get_encoded_size(codes):\n",
        "  return sum([len(code) * count for gap, (code, count) in codes.items()])\n",
        "\n",
        "def get_fixed_size(codes):\n",
        "  num_keys = len(codes)\n",
        "  num_bits_per_key = ceil(log(num_keys, 2))\n",
        "  return sum([num_bits_per_key * count for gap, (code, count) in codes.items()])\n",
        "\n",
        "def report(codes):\n",
        "  return compression_ratio(get_fixed_size(codes), get_encoded_size(codes))\n",
        "\n",
        "def test_up_to(primes, upper, results):\n",
        "  list_of_gaps = get_list_of_gaps(primes[:upper])\n",
        "  print(primes[:upper])\n",
        "  print(list_of_gaps)\n",
        "  root = make_huffman_tree(list_of_gaps)\n",
        "  print(RenderTree(root))\n",
        "  DotExporter(root).to_picture(f'gap-tree-{upper:02d}.png')\n",
        "  codes = get_codes(root)\n",
        "  print(upper, '-->', get_encoded_size(codes))\n",
        "  cr = round(report(codes))\n",
        "  results[upper - 1] = cr # adjust since upper is the number of primes, -1 to make it just odd primes\n",
        "\n",
        "primes = realprimes_up_to(10001)\n",
        "results = {}\n",
        "for n in range(3, 33):\n",
        "    test_up_to(primes, n, results)\n",
        "\n",
        "results"
      ],
      "execution_count": null,
      "outputs": []
    },
    {
      "cell_type": "markdown",
      "metadata": {
        "id": "6qppc1W8m07l"
      },
      "source": [
        "## Explore and Wonder"
      ]
    },
    {
      "cell_type": "markdown",
      "metadata": {
        "id": "kHEYJMd9nKQc"
      },
      "source": [
        "The Huffman Tree Algorithm is one of my favorite algorithms!"
      ]
    },
    {
      "cell_type": "markdown",
      "metadata": {
        "id": "fvsdyKX7nNG4"
      },
      "source": [
        "### Reason #1"
      ]
    },
    {
      "cell_type": "markdown",
      "metadata": {
        "id": "WzEV8GvBnbzd"
      },
      "source": [
        "It is easy to understand and implement --- a classic greedy algorithm."
      ]
    },
    {
      "cell_type": "markdown",
      "metadata": {
        "id": "cJO4n-JRnWnm"
      },
      "source": [
        "### Reason #2"
      ]
    },
    {
      "cell_type": "markdown",
      "metadata": {
        "id": "p7gj8RzPnhuQ"
      },
      "source": [
        "It is provably optimal among methods encoding symbols separately."
      ]
    },
    {
      "cell_type": "markdown",
      "metadata": {
        "id": "BxD5XjgInZWH"
      },
      "source": [
        "### Reason #3"
      ]
    },
    {
      "cell_type": "markdown",
      "metadata": {
        "id": "EKTZwf90nlTH"
      },
      "source": [
        "I think David Huffman was inspired!"
      ]
    },
    {
      "cell_type": "markdown",
      "metadata": {
        "id": "poJ7bLJanpOJ"
      },
      "source": [
        "#### History"
      ]
    },
    {
      "cell_type": "markdown",
      "metadata": {
        "id": "S93G-zHKnqnl"
      },
      "source": [
        "From the History section of Wikipedia's page on Huffman coding:\n",
        "\n",
        "> In 1951, David A. Huffman and his MIT information theory classmates were given the choice of a term paper or a final exam. The professor, Robert M. Fano, assigned a term paper on the problem of finding the most efficient binary code. Huffman, unable to prove any codes were the most efficient, was about to give up and start studying for the final when he hit upon the idea of using a frequency-sorted binary tree and quickly proved this method the most efficient.\n",
        "\n",
        "> In doing so, Huffman outdid Fano, who had worked with information theory inventor Claude Shannon to develop a similar code. Building the tree from the bottom up guaranteed optimality, unlike top-down Shannon-Fano coding.\n",
        "\n",
        "\n",
        "\n"
      ]
    },
    {
      "cell_type": "markdown",
      "metadata": {
        "id": "RGJlfNDGoHj-"
      },
      "source": [
        "## TODO Read and Draw"
      ]
    },
    {
      "cell_type": "markdown",
      "metadata": {
        "id": "uy8UQIoioPMb"
      },
      "source": [
        "Read [A Method for the Construction of Minimum-Redundancy Codes](http://compression.ru/download/articles/huff/huffman_1952_minimum-redundancy-codes.pdf) (David Huffman's original paper) and by drawing pictures, make the connection between trees and rivers vivid in your mind!"
      ]
    },
    {
      "cell_type": "markdown",
      "metadata": {
        "id": "WL479NGgMitN"
      },
      "source": [
        "![RiversandTrees.png](data:image/png;base64,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)"
      ]
    }
  ]
}